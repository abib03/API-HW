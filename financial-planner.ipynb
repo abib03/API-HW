{
 "cells": [
  {
   "cell_type": "markdown",
   "metadata": {},
   "source": [
    "# Unit 5 - Financial Planning"
   ]
  },
  {
   "cell_type": "code",
   "execution_count": 1,
   "metadata": {},
   "outputs": [],
   "source": [
    "# Initial imports\n",
    "import os\n",
    "import json\n",
    "import requests\n",
    "import pandas as pd\n",
    "from dotenv import load_dotenv\n",
    "import alpaca_trade_api as tradeapi\n",
    "from MCForecastTools import MCSimulation\n",
    "\n",
    "%matplotlib inline"
   ]
  },
  {
   "cell_type": "code",
   "execution_count": 2,
   "metadata": {},
   "outputs": [
    {
     "data": {
      "text/plain": [
       "True"
      ]
     },
     "execution_count": 2,
     "metadata": {},
     "output_type": "execute_result"
    }
   ],
   "source": [
    "# Load .env enviroment variables\n",
    "load_dotenv('me.env')"
   ]
  },
  {
   "cell_type": "markdown",
   "metadata": {},
   "source": [
    "## Part 1 - Personal Finance Planner"
   ]
  },
  {
   "cell_type": "markdown",
   "metadata": {},
   "source": [
    "### Collect Crypto Prices Using the `requests` Library"
   ]
  },
  {
   "cell_type": "code",
   "execution_count": 3,
   "metadata": {},
   "outputs": [],
   "source": [
    "# Set current amount of crypto assets\n",
    "my_btc = 1.2\n",
    "my_eth = 5.3"
   ]
  },
  {
   "cell_type": "code",
   "execution_count": 4,
   "metadata": {},
   "outputs": [],
   "source": [
    "# Crypto API URLs\n",
    "btc_url = \"https://api.alternative.me/v2/ticker/Bitcoin/?convert=CAD\"\n",
    "eth_url = \"https://api.alternative.me/v2/ticker/Ethereum/?convert=CAD\""
   ]
  },
  {
   "cell_type": "code",
   "execution_count": 5,
   "metadata": {},
   "outputs": [],
   "source": [
    "btc_url = btc_url + \"?format=json\""
   ]
  },
  {
   "cell_type": "code",
   "execution_count": 6,
   "metadata": {},
   "outputs": [
    {
     "name": "stdout",
     "output_type": "stream",
     "text": [
      "{'data': {'1': {'id': 1, 'name': 'Bitcoin', 'symbol': 'BTC', 'website_slug': 'bitcoin', 'rank': 1, 'circulating_supply': 18936493, 'total_supply': 18936493, 'max_supply': 21000000, 'quotes': {'USD': {'price': 36475.0, 'volume_24h': 36288454743, 'market_cap': 689825265443, 'percentage_change_1h': -0.336361858836568, 'percentage_change_24h': -9.33545116336115, 'percentage_change_7d': -15.4111145198835, 'percent_change_1h': -0.336361858836568, 'percent_change_24h': -9.33545116336115, 'percent_change_7d': -15.4111145198835}}, 'last_updated': 1642819454}}, 'metadata': {'timestamp': 1642819454, 'num_cryptocurrencies': 3105, 'error': None}}\n"
     ]
    }
   ],
   "source": [
    "# Using Request Library\n",
    "requests.get(btc_url)\n",
    "\n",
    "response_data_btc = requests.get(btc_url).json()\n",
    "\n",
    "#print(json.dumps(response_data_btc, indent=4))\n",
    "print(response_data_btc)"
   ]
  },
  {
   "cell_type": "code",
   "execution_count": 7,
   "metadata": {},
   "outputs": [
    {
     "name": "stdout",
     "output_type": "stream",
     "text": [
      "Bitcoin Price: 36475.0\n"
     ]
    }
   ],
   "source": [
    "#Compute BTC Price\n",
    "btc_price = response_data_btc ['data']['1']['quotes']['USD']['price']\n",
    "\n",
    "print('Bitcoin Price:', btc_price)"
   ]
  },
  {
   "cell_type": "code",
   "execution_count": 8,
   "metadata": {},
   "outputs": [
    {
     "name": "stdout",
     "output_type": "stream",
     "text": [
      "Ethereum Price: 2601.7\n"
     ]
    }
   ],
   "source": [
    "#Fetch ETH\n",
    "eth_url = eth_url + \"?format=json\"\n",
    "# Using Request Library\n",
    "requests.get(eth_url)\n",
    "\n",
    "response_data_eth = requests.get(eth_url).json()\n",
    "#print(json.dumps(response_data_eth, indent=4))\n",
    "\n",
    "# Compute ETH PRice\n",
    "eth_price = response_data_eth ['data']['1027']['quotes']['USD']['price']\n",
    "print('Ethereum Price:', eth_price)\n"
   ]
  },
  {
   "cell_type": "code",
   "execution_count": 9,
   "metadata": {},
   "outputs": [
    {
     "name": "stdout",
     "output_type": "stream",
     "text": [
      "The current value of your 1.2 BTC is $43770.00\n",
      "The current value of your 5.3 ETH is $13789.01\n",
      "Total Value of Crypto is $57559.01\n"
     ]
    }
   ],
   "source": [
    "# Compute the current value of my crypto portfolio\n",
    "\n",
    "current_btc = my_btc * btc_price\n",
    "\n",
    "current_eth = my_eth * eth_price\n",
    "\n",
    "total_crypto = current_btc + current_eth\n",
    "\n",
    "total_crypto\n",
    "\n",
    "#Print current crypto wallet balance\n",
    "print(f\"The current value of your {my_btc} BTC is ${current_btc:0.2f}\")\n",
    "print(f\"The current value of your {my_eth} ETH is ${current_eth:0.2f}\")\n",
    "print(f'Total Value of Crypto is ${total_crypto:0.2f}')"
   ]
  },
  {
   "cell_type": "markdown",
   "metadata": {},
   "source": [
    "### Collect Investments Data Using Alpaca: `SPY` (stocks) and `AGG` (bonds)"
   ]
  },
  {
   "cell_type": "code",
   "execution_count": 10,
   "metadata": {},
   "outputs": [],
   "source": [
    "# Set current amount of shares\n",
    "my_agg = 200\n",
    "my_spy = 50"
   ]
  },
  {
   "cell_type": "code",
   "execution_count": 11,
   "metadata": {},
   "outputs": [
    {
     "name": "stdout",
     "output_type": "stream",
     "text": [
      "Alpaca Key type: <class 'str'>\n",
      "Alpaca Secret Key type: <class 'str'>\n"
     ]
    }
   ],
   "source": [
    "# Set Alpaca API key and secret\n",
    "alpaca_api_key = os.getenv(\"ALPACA_API_KEY\")\n",
    "alpaca_secret_key = os.getenv(\"ALPACA_SECRET_KEY\")\n",
    "\n",
    "print(f\"Alpaca Key type: {type(alpaca_api_key)}\")\n",
    "print(f\"Alpaca Secret Key type: {type(alpaca_secret_key)}\")\n",
    "\n",
    "# Create the Alpaca API object\n",
    "alpaca = tradeapi.REST(\n",
    "    alpaca_api_key,\n",
    "    alpaca_secret_key,\n",
    "    api_version=\"v2\")"
   ]
  },
  {
   "cell_type": "code",
   "execution_count": 12,
   "metadata": {},
   "outputs": [
    {
     "data": {
      "text/html": [
       "<div>\n",
       "<style scoped>\n",
       "    .dataframe tbody tr th:only-of-type {\n",
       "        vertical-align: middle;\n",
       "    }\n",
       "\n",
       "    .dataframe tbody tr th {\n",
       "        vertical-align: top;\n",
       "    }\n",
       "\n",
       "    .dataframe thead tr th {\n",
       "        text-align: left;\n",
       "    }\n",
       "\n",
       "    .dataframe thead tr:last-of-type th {\n",
       "        text-align: right;\n",
       "    }\n",
       "</style>\n",
       "<table border=\"1\" class=\"dataframe\">\n",
       "  <thead>\n",
       "    <tr>\n",
       "      <th></th>\n",
       "      <th colspan=\"5\" halign=\"left\">AGG</th>\n",
       "      <th colspan=\"5\" halign=\"left\">SPY</th>\n",
       "    </tr>\n",
       "    <tr>\n",
       "      <th></th>\n",
       "      <th>open</th>\n",
       "      <th>high</th>\n",
       "      <th>low</th>\n",
       "      <th>close</th>\n",
       "      <th>volume</th>\n",
       "      <th>open</th>\n",
       "      <th>high</th>\n",
       "      <th>low</th>\n",
       "      <th>close</th>\n",
       "      <th>volume</th>\n",
       "    </tr>\n",
       "    <tr>\n",
       "      <th>time</th>\n",
       "      <th></th>\n",
       "      <th></th>\n",
       "      <th></th>\n",
       "      <th></th>\n",
       "      <th></th>\n",
       "      <th></th>\n",
       "      <th></th>\n",
       "      <th></th>\n",
       "      <th></th>\n",
       "      <th></th>\n",
       "    </tr>\n",
       "  </thead>\n",
       "  <tbody>\n",
       "    <tr>\n",
       "      <th>2019-07-15 00:00:00-04:00</th>\n",
       "      <td>110.87</td>\n",
       "      <td>110.960</td>\n",
       "      <td>110.85</td>\n",
       "      <td>110.93</td>\n",
       "      <td>2190884</td>\n",
       "      <td>301.130</td>\n",
       "      <td>301.1300</td>\n",
       "      <td>300.19</td>\n",
       "      <td>300.76</td>\n",
       "      <td>26620249</td>\n",
       "    </tr>\n",
       "    <tr>\n",
       "      <th>2019-07-16 00:00:00-04:00</th>\n",
       "      <td>110.75</td>\n",
       "      <td>110.800</td>\n",
       "      <td>110.64</td>\n",
       "      <td>110.80</td>\n",
       "      <td>2059082</td>\n",
       "      <td>300.650</td>\n",
       "      <td>300.8800</td>\n",
       "      <td>299.44</td>\n",
       "      <td>299.74</td>\n",
       "      <td>35091780</td>\n",
       "    </tr>\n",
       "    <tr>\n",
       "      <th>2019-07-17 00:00:00-04:00</th>\n",
       "      <td>110.93</td>\n",
       "      <td>111.140</td>\n",
       "      <td>110.91</td>\n",
       "      <td>111.13</td>\n",
       "      <td>2281121</td>\n",
       "      <td>298.935</td>\n",
       "      <td>299.1300</td>\n",
       "      <td>297.76</td>\n",
       "      <td>297.77</td>\n",
       "      <td>16886404</td>\n",
       "    </tr>\n",
       "    <tr>\n",
       "      <th>2019-07-18 00:00:00-04:00</th>\n",
       "      <td>111.10</td>\n",
       "      <td>111.330</td>\n",
       "      <td>111.06</td>\n",
       "      <td>111.30</td>\n",
       "      <td>4360852</td>\n",
       "      <td>297.190</td>\n",
       "      <td>299.2500</td>\n",
       "      <td>296.70</td>\n",
       "      <td>298.85</td>\n",
       "      <td>45081126</td>\n",
       "    </tr>\n",
       "    <tr>\n",
       "      <th>2019-07-19 00:00:00-04:00</th>\n",
       "      <td>111.22</td>\n",
       "      <td>111.286</td>\n",
       "      <td>111.14</td>\n",
       "      <td>111.23</td>\n",
       "      <td>2391179</td>\n",
       "      <td>300.040</td>\n",
       "      <td>300.0700</td>\n",
       "      <td>296.96</td>\n",
       "      <td>297.12</td>\n",
       "      <td>56205349</td>\n",
       "    </tr>\n",
       "    <tr>\n",
       "      <th>...</th>\n",
       "      <td>...</td>\n",
       "      <td>...</td>\n",
       "      <td>...</td>\n",
       "      <td>...</td>\n",
       "      <td>...</td>\n",
       "      <td>...</td>\n",
       "      <td>...</td>\n",
       "      <td>...</td>\n",
       "      <td>...</td>\n",
       "      <td>...</td>\n",
       "    </tr>\n",
       "    <tr>\n",
       "      <th>2022-01-14 00:00:00-05:00</th>\n",
       "      <td>112.53</td>\n",
       "      <td>112.545</td>\n",
       "      <td>112.15</td>\n",
       "      <td>112.17</td>\n",
       "      <td>8362916</td>\n",
       "      <td>461.190</td>\n",
       "      <td>465.0900</td>\n",
       "      <td>459.90</td>\n",
       "      <td>464.68</td>\n",
       "      <td>84363989</td>\n",
       "    </tr>\n",
       "    <tr>\n",
       "      <th>2022-01-18 00:00:00-05:00</th>\n",
       "      <td>111.81</td>\n",
       "      <td>111.860</td>\n",
       "      <td>111.47</td>\n",
       "      <td>111.49</td>\n",
       "      <td>7390142</td>\n",
       "      <td>459.730</td>\n",
       "      <td>459.9600</td>\n",
       "      <td>455.31</td>\n",
       "      <td>456.53</td>\n",
       "      <td>95565773</td>\n",
       "    </tr>\n",
       "    <tr>\n",
       "      <th>2022-01-19 00:00:00-05:00</th>\n",
       "      <td>111.70</td>\n",
       "      <td>111.890</td>\n",
       "      <td>111.65</td>\n",
       "      <td>111.71</td>\n",
       "      <td>7641972</td>\n",
       "      <td>458.170</td>\n",
       "      <td>459.6124</td>\n",
       "      <td>451.46</td>\n",
       "      <td>451.79</td>\n",
       "      <td>95311817</td>\n",
       "    </tr>\n",
       "    <tr>\n",
       "      <th>2022-01-20 00:00:00-05:00</th>\n",
       "      <td>111.84</td>\n",
       "      <td>111.900</td>\n",
       "      <td>111.75</td>\n",
       "      <td>111.79</td>\n",
       "      <td>6861797</td>\n",
       "      <td>453.750</td>\n",
       "      <td>458.7400</td>\n",
       "      <td>444.50</td>\n",
       "      <td>446.79</td>\n",
       "      <td>105009751</td>\n",
       "    </tr>\n",
       "    <tr>\n",
       "      <th>2022-01-21 00:00:00-05:00</th>\n",
       "      <td>112.19</td>\n",
       "      <td>112.350</td>\n",
       "      <td>112.11</td>\n",
       "      <td>112.24</td>\n",
       "      <td>7789076</td>\n",
       "      <td>445.560</td>\n",
       "      <td>448.0600</td>\n",
       "      <td>437.97</td>\n",
       "      <td>438.11</td>\n",
       "      <td>174541931</td>\n",
       "    </tr>\n",
       "  </tbody>\n",
       "</table>\n",
       "<p>638 rows × 10 columns</p>\n",
       "</div>"
      ],
      "text/plain": [
       "                              AGG                                        SPY  \\\n",
       "                             open     high     low   close   volume     open   \n",
       "time                                                                           \n",
       "2019-07-15 00:00:00-04:00  110.87  110.960  110.85  110.93  2190884  301.130   \n",
       "2019-07-16 00:00:00-04:00  110.75  110.800  110.64  110.80  2059082  300.650   \n",
       "2019-07-17 00:00:00-04:00  110.93  111.140  110.91  111.13  2281121  298.935   \n",
       "2019-07-18 00:00:00-04:00  111.10  111.330  111.06  111.30  4360852  297.190   \n",
       "2019-07-19 00:00:00-04:00  111.22  111.286  111.14  111.23  2391179  300.040   \n",
       "...                           ...      ...     ...     ...      ...      ...   \n",
       "2022-01-14 00:00:00-05:00  112.53  112.545  112.15  112.17  8362916  461.190   \n",
       "2022-01-18 00:00:00-05:00  111.81  111.860  111.47  111.49  7390142  459.730   \n",
       "2022-01-19 00:00:00-05:00  111.70  111.890  111.65  111.71  7641972  458.170   \n",
       "2022-01-20 00:00:00-05:00  111.84  111.900  111.75  111.79  6861797  453.750   \n",
       "2022-01-21 00:00:00-05:00  112.19  112.350  112.11  112.24  7789076  445.560   \n",
       "\n",
       "                                                                \n",
       "                               high     low   close     volume  \n",
       "time                                                            \n",
       "2019-07-15 00:00:00-04:00  301.1300  300.19  300.76   26620249  \n",
       "2019-07-16 00:00:00-04:00  300.8800  299.44  299.74   35091780  \n",
       "2019-07-17 00:00:00-04:00  299.1300  297.76  297.77   16886404  \n",
       "2019-07-18 00:00:00-04:00  299.2500  296.70  298.85   45081126  \n",
       "2019-07-19 00:00:00-04:00  300.0700  296.96  297.12   56205349  \n",
       "...                             ...     ...     ...        ...  \n",
       "2022-01-14 00:00:00-05:00  465.0900  459.90  464.68   84363989  \n",
       "2022-01-18 00:00:00-05:00  459.9600  455.31  456.53   95565773  \n",
       "2022-01-19 00:00:00-05:00  459.6124  451.46  451.79   95311817  \n",
       "2022-01-20 00:00:00-05:00  458.7400  444.50  446.79  105009751  \n",
       "2022-01-21 00:00:00-05:00  448.0600  437.97  438.11  174541931  \n",
       "\n",
       "[638 rows x 10 columns]"
      ]
     },
     "execution_count": 12,
     "metadata": {},
     "output_type": "execute_result"
    }
   ],
   "source": [
    "# Format current date as ISO format\n",
    "today = pd.Timestamp(\"2022-01-21\", tz=\"America/New_York\").isoformat()\n",
    "\n",
    "start = pd.Timestamp(\"2019-07-14\", tz=\"America/New_York\").isoformat()\n",
    "end = today \n",
    "# Set the tickers\n",
    "tickers = [\"AGG\", \"SPY\"]\n",
    "\n",
    "# Set timeframe to '1D' for Alpaca API\n",
    "timeframe = \"1D\"\n",
    "\n",
    "# Get current closing prices for SPY and AGG\n",
    "# (use a limit=1000 parameter to call the most recent 1000 days of data)\n",
    "df_portfolio_year = alpaca.get_barset(\n",
    "    tickers,\n",
    "    timeframe,\n",
    "    start = start,\n",
    "    end = end,\n",
    "    limit = 1000\n",
    ").df\n",
    "\n",
    "# Preview DataFrame\n",
    "df_portfolio_year"
   ]
  },
  {
   "cell_type": "code",
   "execution_count": 13,
   "metadata": {},
   "outputs": [
    {
     "data": {
      "text/html": [
       "<div>\n",
       "<style scoped>\n",
       "    .dataframe tbody tr th:only-of-type {\n",
       "        vertical-align: middle;\n",
       "    }\n",
       "\n",
       "    .dataframe tbody tr th {\n",
       "        vertical-align: top;\n",
       "    }\n",
       "\n",
       "    .dataframe thead th {\n",
       "        text-align: right;\n",
       "    }\n",
       "</style>\n",
       "<table border=\"1\" class=\"dataframe\">\n",
       "  <thead>\n",
       "    <tr style=\"text-align: right;\">\n",
       "      <th></th>\n",
       "      <th>AGG</th>\n",
       "      <th>SPY</th>\n",
       "    </tr>\n",
       "  </thead>\n",
       "  <tbody>\n",
       "    <tr>\n",
       "      <th>2022-01-07</th>\n",
       "      <td>112.50</td>\n",
       "      <td>466.12</td>\n",
       "    </tr>\n",
       "    <tr>\n",
       "      <th>2022-01-10</th>\n",
       "      <td>112.41</td>\n",
       "      <td>465.56</td>\n",
       "    </tr>\n",
       "    <tr>\n",
       "      <th>2022-01-11</th>\n",
       "      <td>112.61</td>\n",
       "      <td>469.74</td>\n",
       "    </tr>\n",
       "    <tr>\n",
       "      <th>2022-01-12</th>\n",
       "      <td>112.60</td>\n",
       "      <td>471.06</td>\n",
       "    </tr>\n",
       "    <tr>\n",
       "      <th>2022-01-13</th>\n",
       "      <td>112.80</td>\n",
       "      <td>464.54</td>\n",
       "    </tr>\n",
       "    <tr>\n",
       "      <th>2022-01-14</th>\n",
       "      <td>112.17</td>\n",
       "      <td>464.68</td>\n",
       "    </tr>\n",
       "    <tr>\n",
       "      <th>2022-01-18</th>\n",
       "      <td>111.49</td>\n",
       "      <td>456.53</td>\n",
       "    </tr>\n",
       "    <tr>\n",
       "      <th>2022-01-19</th>\n",
       "      <td>111.71</td>\n",
       "      <td>451.79</td>\n",
       "    </tr>\n",
       "    <tr>\n",
       "      <th>2022-01-20</th>\n",
       "      <td>111.79</td>\n",
       "      <td>446.79</td>\n",
       "    </tr>\n",
       "    <tr>\n",
       "      <th>2022-01-21</th>\n",
       "      <td>112.24</td>\n",
       "      <td>438.11</td>\n",
       "    </tr>\n",
       "  </tbody>\n",
       "</table>\n",
       "</div>"
      ],
      "text/plain": [
       "               AGG     SPY\n",
       "2022-01-07  112.50  466.12\n",
       "2022-01-10  112.41  465.56\n",
       "2022-01-11  112.61  469.74\n",
       "2022-01-12  112.60  471.06\n",
       "2022-01-13  112.80  464.54\n",
       "2022-01-14  112.17  464.68\n",
       "2022-01-18  111.49  456.53\n",
       "2022-01-19  111.71  451.79\n",
       "2022-01-20  111.79  446.79\n",
       "2022-01-21  112.24  438.11"
      ]
     },
     "execution_count": 13,
     "metadata": {},
     "output_type": "execute_result"
    }
   ],
   "source": [
    "# Pick AGG and SPY close prices\n",
    "df_closing_prices = pd.DataFrame()\n",
    "\n",
    "df_closing_prices[\"AGG\"] = df_portfolio_year[\"AGG\"][\"close\"]\n",
    "df_closing_prices[\"SPY\"] = df_portfolio_year[\"SPY\"][\"close\"]\n",
    "\n",
    "# Drop the time component of the date\n",
    "df_closing_prices.index = df_closing_prices.index.date\n",
    "\n",
    "# Display sample data\n",
    "df_closing_prices.tail(10)\n"
   ]
  },
  {
   "cell_type": "code",
   "execution_count": 14,
   "metadata": {},
   "outputs": [
    {
     "name": "stdout",
     "output_type": "stream",
     "text": [
      "Current AGG closing price: $112.24\n",
      "Current SPY closing price: $438.11\n"
     ]
    }
   ],
   "source": [
    "# Print AGG and SPY close prices\n",
    "\n",
    "agg_close = df_portfolio_year[\"AGG\"][\"close\"]['2022-01-21']\n",
    "spy_close = df_portfolio_year[\"SPY\"][\"close\"]['2022-01-21']\n",
    "print(f\"Current AGG closing price: ${agg_close}\")\n",
    "print(f\"Current SPY closing price: ${spy_close}\")"
   ]
  },
  {
   "cell_type": "code",
   "execution_count": 15,
   "metadata": {},
   "outputs": [
    {
     "name": "stdout",
     "output_type": "stream",
     "text": [
      "The current value of your 50 SPY shares is $21905.50\n",
      "The current value of your 200 AGG shares is $22448.00\n",
      "Total Value of Shares is $44353.50\n"
     ]
    }
   ],
   "source": [
    "# Compute the current value of shares\n",
    "my_agg_value = my_agg * agg_close\n",
    "\n",
    "my_spy_value = my_spy * spy_close\n",
    "\n",
    "total_stock =  my_agg_value + my_spy_value\n",
    "\n",
    "total_stock\n",
    "\n",
    "# Print current value of shares\n",
    "print(f\"The current value of your {my_spy} SPY shares is ${my_spy_value:0.2f}\")\n",
    "print(f\"The current value of your {my_agg} AGG shares is ${my_agg_value:0.2f}\")\n",
    "print(f'Total Value of Shares is ${total_stock:0.2f}')"
   ]
  },
  {
   "cell_type": "markdown",
   "metadata": {},
   "source": [
    "### Savings Health Analysis"
   ]
  },
  {
   "cell_type": "code",
   "execution_count": 23,
   "metadata": {},
   "outputs": [
    {
     "data": {
      "text/html": [
       "<div>\n",
       "<style scoped>\n",
       "    .dataframe tbody tr th:only-of-type {\n",
       "        vertical-align: middle;\n",
       "    }\n",
       "\n",
       "    .dataframe tbody tr th {\n",
       "        vertical-align: top;\n",
       "    }\n",
       "\n",
       "    .dataframe thead th {\n",
       "        text-align: right;\n",
       "    }\n",
       "</style>\n",
       "<table border=\"1\" class=\"dataframe\">\n",
       "  <thead>\n",
       "    <tr style=\"text-align: right;\">\n",
       "      <th></th>\n",
       "      <th>Amount</th>\n",
       "    </tr>\n",
       "  </thead>\n",
       "  <tbody>\n",
       "    <tr>\n",
       "      <th>Crypto</th>\n",
       "      <td>57559.01</td>\n",
       "    </tr>\n",
       "    <tr>\n",
       "      <th>Shares</th>\n",
       "      <td>44353.50</td>\n",
       "    </tr>\n",
       "  </tbody>\n",
       "</table>\n",
       "</div>"
      ],
      "text/plain": [
       "          Amount\n",
       "Crypto  57559.01\n",
       "Shares  44353.50"
      ]
     },
     "metadata": {},
     "output_type": "display_data"
    }
   ],
   "source": [
    "# Set monthly household income\n",
    "monthly_income = 12000\n",
    "\n",
    "# Consolidate financial assets data\n",
    "savings = [total_crypto,total_stock]\n",
    "\n",
    "# Create savings DataFrame\n",
    "df_savings = pd.DataFrame(savings, columns =['Amount'], index =['Crypto', 'Shares'])\n",
    "\n",
    "# Display savings DataFrame\n",
    "display(df_savings)"
   ]
  },
  {
   "cell_type": "code",
   "execution_count": 18,
   "metadata": {},
   "outputs": [
    {
     "data": {
      "text/plain": [
       "<AxesSubplot:title={'center':'Composition of Personal Savings'}, ylabel='Amount'>"
      ]
     },
     "execution_count": 18,
     "metadata": {},
     "output_type": "execute_result"
    },
    {
     "data": {
      "image/png": "[encoded data removed]",
      "text/plain": [
       "<Figure size 432x288 with 1 Axes>"
      ]
     },
     "metadata": {},
     "output_type": "display_data"
    }
   ],
   "source": [
    "# Plot savings pie chart\n",
    "df_savings.plot.pie(y='Amount', title = 'Composition of Personal Savings')"
   ]
  },
  {
   "cell_type": "code",
   "execution_count": 31,
   "metadata": {},
   "outputs": [
    {
     "name": "stdout",
     "output_type": "stream",
     "text": [
      "Congratulations! You have enough saved!\n"
     ]
    }
   ],
   "source": [
    "# Set ideal emergency fund\n",
    "emergency_fund = monthly_income * 3\n",
    "\n",
    "# Calculate total amount of savings\n",
    "total_savings = float(df_savings.sum())\n",
    "\n",
    "# Validate saving health\n",
    "if total_savings > emergency_fund:\n",
    "    print(f'Congratulations! You have enough saved!')\n",
    "elif total_savings == emergency_fund:\n",
    "    print(f'Congrats on reaching your financial goal!')\n",
    "else:\n",
    "    print(f'You are {emergency_fund - total_savings} away from your goal!')"
   ]
  },
  {
   "cell_type": "markdown",
   "metadata": {},
   "source": [
    "## Part 2 - Retirement Planning\n",
    "\n",
    "### Monte Carlo Simulation"
   ]
  },
  {
   "cell_type": "code",
   "execution_count": null,
   "metadata": {},
   "outputs": [],
   "source": [
    "# Set start and end dates of five years back from today.\n",
    "# Sample results may vary from the solution based on the time frame chosen\n",
    "start_date = pd.Timestamp('2016-05-01', tz='America/New_York').isoformat()\n",
    "end_date = pd.Timestamp('2021-05-01', tz='America/New_York').isoformat()"
   ]
  },
  {
   "cell_type": "code",
   "execution_count": null,
   "metadata": {},
   "outputs": [],
   "source": [
    "# Get 5 years' worth of historical data for SPY and AGG\n",
    "# (use a limit=1000 parameter to call the most recent 1000 days of data)\n",
    "# YOUR CODE HERE!\n",
    "\n",
    "# Display sample data\n",
    "df_stock_data.head()"
   ]
  },
  {
   "cell_type": "code",
   "execution_count": null,
   "metadata": {},
   "outputs": [],
   "source": [
    "# Configuring a Monte Carlo simulation to forecast 30 years cumulative returns\n",
    "# YOUR CODE HERE!"
   ]
  },
  {
   "cell_type": "code",
   "execution_count": null,
   "metadata": {},
   "outputs": [],
   "source": [
    "# Printing the simulation input data\n",
    "# YOUR CODE HERE!"
   ]
  },
  {
   "cell_type": "code",
   "execution_count": null,
   "metadata": {},
   "outputs": [],
   "source": [
    "# Running a Monte Carlo simulation to forecast 30 years cumulative returns\n",
    "# YOUR CODE HERE!"
   ]
  },
  {
   "cell_type": "code",
   "execution_count": null,
   "metadata": {},
   "outputs": [],
   "source": [
    "# Plot simulation outcomes\n",
    "# YOUR CODE HERE!"
   ]
  },
  {
   "cell_type": "code",
   "execution_count": null,
   "metadata": {},
   "outputs": [],
   "source": [
    "# Plot probability distribution and confidence intervals\n",
    "# YOUR CODE HERE!"
   ]
  },
  {
   "cell_type": "markdown",
   "metadata": {},
   "source": [
    "### Retirement Analysis"
   ]
  },
  {
   "cell_type": "code",
   "execution_count": null,
   "metadata": {},
   "outputs": [],
   "source": [
    "# Fetch summary statistics from the Monte Carlo simulation results\n",
    "# YOUR CODE HERE!\n",
    "\n",
    "# Print summary statistics\n",
    "# YOUR CODE HERE!"
   ]
  },
  {
   "cell_type": "markdown",
   "metadata": {},
   "source": [
    "### Calculate the expected portfolio return at the `95%` lower and upper confidence intervals based on a `$20,000` initial investment."
   ]
  },
  {
   "cell_type": "code",
   "execution_count": null,
   "metadata": {},
   "outputs": [],
   "source": [
    "# Set initial investment\n",
    "initial_investment = 20000\n",
    "\n",
    "# Use the lower and upper `95%` confidence intervals to calculate the range of the possible outcomes of our $20,000\n",
    "# YOUR CODE HERE!\n",
    "\n",
    "# Print results\n",
    "print(f\"There is a 95% chance that an initial investment of ${initial_investment} in the portfolio\"\n",
    "      f\" over the next 30 years will end within in the range of\"\n",
    "      f\" ${ci_lower} and ${ci_upper}\")"
   ]
  },
  {
   "cell_type": "markdown",
   "metadata": {},
   "source": [
    "### Calculate the expected portfolio return at the `95%` lower and upper confidence intervals based on a `50%` increase in the initial investment."
   ]
  },
  {
   "cell_type": "code",
   "execution_count": null,
   "metadata": {},
   "outputs": [],
   "source": [
    "# Set initial investment\n",
    "initial_investment = 20000 * 1.5\n",
    "\n",
    "# Use the lower and upper `95%` confidence intervals to calculate the range of the possible outcomes of our $30,000\n",
    "# YOUR CODE HERE!\n",
    "\n",
    "# Print results\n",
    "print(f\"There is a 95% chance that an initial investment of ${initial_investment} in the portfolio\"\n",
    "      f\" over the next 30 years will end within in the range of\"\n",
    "      f\" ${ci_lower} and ${ci_upper}\")"
   ]
  },
  {
   "cell_type": "markdown",
   "metadata": {},
   "source": [
    "## Optional Challenge - Early Retirement\n",
    "\n",
    "\n",
    "### Five Years Retirement Option"
   ]
  },
  {
   "cell_type": "code",
   "execution_count": null,
   "metadata": {},
   "outputs": [],
   "source": [
    "# Configuring a Monte Carlo simulation to forecast 5 years cumulative returns\n",
    "# YOUR CODE HERE!"
   ]
  },
  {
   "cell_type": "code",
   "execution_count": null,
   "metadata": {},
   "outputs": [],
   "source": [
    "# Running a Monte Carlo simulation to forecast 5 years cumulative returns\n",
    "# YOUR CODE HERE!"
   ]
  },
  {
   "cell_type": "code",
   "execution_count": null,
   "metadata": {},
   "outputs": [],
   "source": [
    "# Plot simulation outcomes\n",
    "# YOUR CODE HERE!"
   ]
  },
  {
   "cell_type": "code",
   "execution_count": null,
   "metadata": {},
   "outputs": [],
   "source": [
    "# Plot probability distribution and confidence intervals\n",
    "# YOUR CODE HERE!"
   ]
  },
  {
   "cell_type": "code",
   "execution_count": null,
   "metadata": {},
   "outputs": [],
   "source": [
    "# Fetch summary statistics from the Monte Carlo simulation results\n",
    "# YOUR CODE HERE!\n",
    "\n",
    "# Print summary statistics\n",
    "# YOUR CODE HERE!"
   ]
  },
  {
   "cell_type": "code",
   "execution_count": null,
   "metadata": {},
   "outputs": [],
   "source": [
    "# Set initial investment\n",
    "# YOUR CODE HERE!\n",
    "\n",
    "# Use the lower and upper `95%` confidence intervals to calculate the range of the possible outcomes of our $60,000\n",
    "# YOUR CODE HERE!\n",
    "\n",
    "# Print results\n",
    "print(f\"There is a 95% chance that an initial investment of ${initial_investment} in the portfolio\"\n",
    "      f\" over the next 5 years will end within in the range of\"\n",
    "      f\" ${ci_lower_five} and ${ci_upper_five}\")"
   ]
  },
  {
   "cell_type": "markdown",
   "metadata": {},
   "source": [
    "### Ten Years Retirement Option"
   ]
  },
  {
   "cell_type": "code",
   "execution_count": null,
   "metadata": {},
   "outputs": [],
   "source": [
    "# Configuring a Monte Carlo simulation to forecast 10 years cumulative returns\n",
    "# YOUR CODE HERE!"
   ]
  },
  {
   "cell_type": "code",
   "execution_count": null,
   "metadata": {},
   "outputs": [],
   "source": [
    "# Running a Monte Carlo simulation to forecast 10 years cumulative returns\n",
    "# YOUR CODE HERE!"
   ]
  },
  {
   "cell_type": "code",
   "execution_count": null,
   "metadata": {},
   "outputs": [],
   "source": [
    "# Plot simulation outcomes\n",
    "# YOUR CODE HERE!"
   ]
  },
  {
   "cell_type": "code",
   "execution_count": null,
   "metadata": {},
   "outputs": [],
   "source": [
    "# Plot probability distribution and confidence intervals\n",
    "# YOUR CODE HERE!"
   ]
  },
  {
   "cell_type": "code",
   "execution_count": null,
   "metadata": {},
   "outputs": [],
   "source": [
    "# Fetch summary statistics from the Monte Carlo simulation results\n",
    "# YOUR CODE HERE!\n",
    "\n",
    "# Print summary statistics\n",
    "# YOUR CODE HERE!"
   ]
  },
  {
   "cell_type": "code",
   "execution_count": null,
   "metadata": {},
   "outputs": [],
   "source": [
    "# Set initial investment\n",
    "# YOUR CODE HERE!\n",
    "\n",
    "# Use the lower and upper `95%` confidence intervals to calculate the range of the possible outcomes of our $60,000\n",
    "# YOUR CODE HERE!\n",
    "\n",
    "# Print results\n",
    "print(f\"There is a 95% chance that an initial investment of ${initial_investment} in the portfolio\"\n",
    "      f\" over the next 10 years will end within in the range of\"\n",
    "      f\" ${ci_lower_ten} and ${ci_upper_ten}\")"
   ]
  },
  {
   "cell_type": "code",
   "execution_count": null,
   "metadata": {},
   "outputs": [],
   "source": []
  }
 ],
 "metadata": {
  "kernelspec": {
   "display_name": "Python 3 (ipykernel)",
   "language": "python",
   "name": "python3"
  },
  "language_info": {
   "codemirror_mode": {
    "name": "ipython",
    "version": 3
   },
   "file_extension": ".py",
   "mimetype": "text/x-python",
   "name": "python",
   "nbconvert_exporter": "python",
   "pygments_lexer": "ipython3",
   "version": "3.7.11"
  },
  "nteract": {
   "version": "0.28.0"
  }
 },
 "nbformat": 4,
 "nbformat_minor": 4
}
