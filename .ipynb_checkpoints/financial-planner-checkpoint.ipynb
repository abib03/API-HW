{
 "cells": [
  {
   "cell_type": "markdown",
   "metadata": {},
   "source": [
    "# Unit 5 - Financial Planning"
   ]
  },
  {
   "cell_type": "code",
   "execution_count": 1,
   "metadata": {},
   "outputs": [],
   "source": [
    "# Initial imports\n",
    "import os\n",
    "import json\n",
    "import requests\n",
    "import pandas as pd\n",
    "from dotenv import load_dotenv\n",
    "import alpaca_trade_api as tradeapi\n",
    "from MCForecastTools import MCSimulation\n",
    "\n",
    "%matplotlib inline"
   ]
  },
  {
   "cell_type": "code",
   "execution_count": 2,
   "metadata": {},
   "outputs": [
    {
     "data": {
      "text/plain": [
       "True"
      ]
     },
     "execution_count": 2,
     "metadata": {},
     "output_type": "execute_result"
    }
   ],
   "source": [
    "# Load .env enviroment variables\n",
    "load_dotenv('me.env')"
   ]
  },
  {
   "cell_type": "markdown",
   "metadata": {},
   "source": [
    "## Part 1 - Personal Finance Planner"
   ]
  },
  {
   "cell_type": "markdown",
   "metadata": {},
   "source": [
    "### Collect Crypto Prices Using the `requests` Library"
   ]
  },
  {
   "cell_type": "code",
   "execution_count": 3,
   "metadata": {},
   "outputs": [],
   "source": [
    "# Set current amount of crypto assets\n",
    "my_btc = 1.2\n",
    "my_eth = 5.3"
   ]
  },
  {
   "cell_type": "code",
   "execution_count": 4,
   "metadata": {},
   "outputs": [],
   "source": [
    "# Crypto API URLs\n",
    "btc_url = \"https://api.alternative.me/v2/ticker/Bitcoin/?convert=CAD\"\n",
    "eth_url = \"https://api.alternative.me/v2/ticker/Ethereum/?convert=CAD\""
   ]
  },
  {
   "cell_type": "code",
   "execution_count": 5,
   "metadata": {},
   "outputs": [],
   "source": [
    "btc_url = btc_url + \"?format=json\""
   ]
  },
  {
   "cell_type": "code",
   "execution_count": 6,
   "metadata": {},
   "outputs": [
    {
     "name": "stdout",
     "output_type": "stream",
     "text": [
      "{'data': {'1': {'id': 1, 'name': 'Bitcoin', 'symbol': 'BTC', 'website_slug': 'bitcoin', 'rank': 1, 'circulating_supply': 18937250, 'total_supply': 18937250, 'max_supply': 21000000, 'quotes': {'USD': {'price': 35304.0, 'volume_24h': 34990887745, 'market_cap': 666220701468, 'percentage_change_1h': 0.670280776598061, 'percentage_change_24h': -2.77464765284495, 'percentage_change_7d': -18.3270647555452, 'percent_change_1h': 0.670280776598061, 'percent_change_24h': -2.77464765284495, 'percent_change_7d': -18.3270647555452}}, 'last_updated': 1642897136}}, 'metadata': {'timestamp': 1642897136, 'num_cryptocurrencies': 3105, 'error': None}}\n"
     ]
    }
   ],
   "source": [
    "# Using Request Library\n",
    "requests.get(btc_url)\n",
    "\n",
    "response_data_btc = requests.get(btc_url).json()\n",
    "\n",
    "#print(json.dumps(response_data_btc, indent=4))\n",
    "print(response_data_btc)"
   ]
  },
  {
   "cell_type": "code",
   "execution_count": 7,
   "metadata": {},
   "outputs": [
    {
     "name": "stdout",
     "output_type": "stream",
     "text": [
      "Bitcoin Price: 35304.0\n"
     ]
    }
   ],
   "source": [
    "#Compute BTC Price\n",
    "btc_price = response_data_btc ['data']['1']['quotes']['USD']['price']\n",
    "\n",
    "print('Bitcoin Price:', btc_price)"
   ]
  },
  {
   "cell_type": "code",
   "execution_count": 8,
   "metadata": {},
   "outputs": [
    {
     "name": "stdout",
     "output_type": "stream",
     "text": [
      "Ethereum Price: 2424.22\n"
     ]
    }
   ],
   "source": [
    "#Fetch ETH\n",
    "eth_url = eth_url + \"?format=json\"\n",
    "# Using Request Library\n",
    "requests.get(eth_url)\n",
    "\n",
    "response_data_eth = requests.get(eth_url).json()\n",
    "#print(json.dumps(response_data_eth, indent=4))\n",
    "\n",
    "# Compute ETH PRice\n",
    "eth_price = response_data_eth ['data']['1027']['quotes']['USD']['price']\n",
    "print('Ethereum Price:', eth_price)\n"
   ]
  },
  {
   "cell_type": "code",
   "execution_count": 9,
   "metadata": {},
   "outputs": [
    {
     "name": "stdout",
     "output_type": "stream",
     "text": [
      "The current value of your 1.2 BTC is $42364.80\n",
      "The current value of your 5.3 ETH is $12848.37\n",
      "Total Value of Crypto is $55213.17\n"
     ]
    }
   ],
   "source": [
    "# Compute the current value of my crypto portfolio\n",
    "\n",
    "current_btc = my_btc * btc_price\n",
    "\n",
    "current_eth = my_eth * eth_price\n",
    "\n",
    "total_crypto = current_btc + current_eth\n",
    "\n",
    "total_crypto\n",
    "\n",
    "#Print current crypto wallet balance\n",
    "print(f\"The current value of your {my_btc} BTC is ${current_btc:0.2f}\")\n",
    "print(f\"The current value of your {my_eth} ETH is ${current_eth:0.2f}\")\n",
    "print(f'Total Value of Crypto is ${total_crypto:0.2f}')"
   ]
  },
  {
   "cell_type": "markdown",
   "metadata": {},
   "source": [
    "### Collect Investments Data Using Alpaca: `SPY` (stocks) and `AGG` (bonds)"
   ]
  },
  {
   "cell_type": "code",
   "execution_count": 10,
   "metadata": {},
   "outputs": [],
   "source": [
    "# Set current amount of shares\n",
    "my_agg = 200\n",
    "my_spy = 50"
   ]
  },
  {
   "cell_type": "code",
   "execution_count": 11,
   "metadata": {},
   "outputs": [
    {
     "name": "stdout",
     "output_type": "stream",
     "text": [
      "Alpaca Key type: <class 'str'>\n",
      "Alpaca Secret Key type: <class 'str'>\n"
     ]
    }
   ],
   "source": [
    "# Set Alpaca API key and secret\n",
    "alpaca_api_key = os.getenv(\"ALPACA_API_KEY\")\n",
    "alpaca_secret_key = os.getenv(\"ALPACA_SECRET_KEY\")\n",
    "\n",
    "print(f\"Alpaca Key type: {type(alpaca_api_key)}\")\n",
    "print(f\"Alpaca Secret Key type: {type(alpaca_secret_key)}\")\n",
    "\n",
    "# Create the Alpaca API object\n",
    "alpaca = tradeapi.REST(\n",
    "    alpaca_api_key,\n",
    "    alpaca_secret_key,\n",
    "    api_version=\"v2\")"
   ]
  },
  {
   "cell_type": "code",
   "execution_count": 12,
   "metadata": {},
   "outputs": [
    {
     "data": {
      "text/html": [
       "<div>\n",
       "<style scoped>\n",
       "    .dataframe tbody tr th:only-of-type {\n",
       "        vertical-align: middle;\n",
       "    }\n",
       "\n",
       "    .dataframe tbody tr th {\n",
       "        vertical-align: top;\n",
       "    }\n",
       "\n",
       "    .dataframe thead tr th {\n",
       "        text-align: left;\n",
       "    }\n",
       "\n",
       "    .dataframe thead tr:last-of-type th {\n",
       "        text-align: right;\n",
       "    }\n",
       "</style>\n",
       "<table border=\"1\" class=\"dataframe\">\n",
       "  <thead>\n",
       "    <tr>\n",
       "      <th></th>\n",
       "      <th colspan=\"5\" halign=\"left\">AGG</th>\n",
       "      <th colspan=\"5\" halign=\"left\">SPY</th>\n",
       "    </tr>\n",
       "    <tr>\n",
       "      <th></th>\n",
       "      <th>open</th>\n",
       "      <th>high</th>\n",
       "      <th>low</th>\n",
       "      <th>close</th>\n",
       "      <th>volume</th>\n",
       "      <th>open</th>\n",
       "      <th>high</th>\n",
       "      <th>low</th>\n",
       "      <th>close</th>\n",
       "      <th>volume</th>\n",
       "    </tr>\n",
       "    <tr>\n",
       "      <th>time</th>\n",
       "      <th></th>\n",
       "      <th></th>\n",
       "      <th></th>\n",
       "      <th></th>\n",
       "      <th></th>\n",
       "      <th></th>\n",
       "      <th></th>\n",
       "      <th></th>\n",
       "      <th></th>\n",
       "      <th></th>\n",
       "    </tr>\n",
       "  </thead>\n",
       "  <tbody>\n",
       "    <tr>\n",
       "      <th>2018-02-01 00:00:00-05:00</th>\n",
       "      <td>107.75</td>\n",
       "      <td>107.8250</td>\n",
       "      <td>107.48</td>\n",
       "      <td>107.490</td>\n",
       "      <td>8569565.0</td>\n",
       "      <td>NaN</td>\n",
       "      <td>NaN</td>\n",
       "      <td>NaN</td>\n",
       "      <td>NaN</td>\n",
       "      <td>NaN</td>\n",
       "    </tr>\n",
       "    <tr>\n",
       "      <th>2018-02-02 00:00:00-05:00</th>\n",
       "      <td>107.25</td>\n",
       "      <td>107.3450</td>\n",
       "      <td>107.10</td>\n",
       "      <td>107.200</td>\n",
       "      <td>4266243.0</td>\n",
       "      <td>280.08</td>\n",
       "      <td>280.2300</td>\n",
       "      <td>275.41</td>\n",
       "      <td>275.52</td>\n",
       "      <td>121717871.0</td>\n",
       "    </tr>\n",
       "    <tr>\n",
       "      <th>2018-02-05 00:00:00-05:00</th>\n",
       "      <td>107.12</td>\n",
       "      <td>107.8100</td>\n",
       "      <td>107.00</td>\n",
       "      <td>107.630</td>\n",
       "      <td>4879995.0</td>\n",
       "      <td>273.47</td>\n",
       "      <td>275.8500</td>\n",
       "      <td>263.31</td>\n",
       "      <td>264.18</td>\n",
       "      <td>205971586.0</td>\n",
       "    </tr>\n",
       "    <tr>\n",
       "      <th>2018-02-06 00:00:00-05:00</th>\n",
       "      <td>107.46</td>\n",
       "      <td>107.5600</td>\n",
       "      <td>107.28</td>\n",
       "      <td>107.300</td>\n",
       "      <td>5489931.0</td>\n",
       "      <td>259.99</td>\n",
       "      <td>269.7000</td>\n",
       "      <td>254.12</td>\n",
       "      <td>269.18</td>\n",
       "      <td>232359323.0</td>\n",
       "    </tr>\n",
       "    <tr>\n",
       "      <th>2018-02-07 00:00:00-05:00</th>\n",
       "      <td>107.43</td>\n",
       "      <td>107.4369</td>\n",
       "      <td>107.00</td>\n",
       "      <td>107.085</td>\n",
       "      <td>3440626.0</td>\n",
       "      <td>268.50</td>\n",
       "      <td>272.3600</td>\n",
       "      <td>267.63</td>\n",
       "      <td>267.66</td>\n",
       "      <td>112819262.0</td>\n",
       "    </tr>\n",
       "    <tr>\n",
       "      <th>...</th>\n",
       "      <td>...</td>\n",
       "      <td>...</td>\n",
       "      <td>...</td>\n",
       "      <td>...</td>\n",
       "      <td>...</td>\n",
       "      <td>...</td>\n",
       "      <td>...</td>\n",
       "      <td>...</td>\n",
       "      <td>...</td>\n",
       "      <td>...</td>\n",
       "    </tr>\n",
       "    <tr>\n",
       "      <th>2022-01-14 00:00:00-05:00</th>\n",
       "      <td>112.53</td>\n",
       "      <td>112.5450</td>\n",
       "      <td>112.15</td>\n",
       "      <td>112.170</td>\n",
       "      <td>8362916.0</td>\n",
       "      <td>461.19</td>\n",
       "      <td>465.0900</td>\n",
       "      <td>459.90</td>\n",
       "      <td>464.68</td>\n",
       "      <td>84363989.0</td>\n",
       "    </tr>\n",
       "    <tr>\n",
       "      <th>2022-01-18 00:00:00-05:00</th>\n",
       "      <td>111.81</td>\n",
       "      <td>111.8600</td>\n",
       "      <td>111.47</td>\n",
       "      <td>111.490</td>\n",
       "      <td>7390142.0</td>\n",
       "      <td>459.73</td>\n",
       "      <td>459.9600</td>\n",
       "      <td>455.31</td>\n",
       "      <td>456.53</td>\n",
       "      <td>95565773.0</td>\n",
       "    </tr>\n",
       "    <tr>\n",
       "      <th>2022-01-19 00:00:00-05:00</th>\n",
       "      <td>111.70</td>\n",
       "      <td>111.8900</td>\n",
       "      <td>111.65</td>\n",
       "      <td>111.710</td>\n",
       "      <td>7641972.0</td>\n",
       "      <td>458.17</td>\n",
       "      <td>459.6124</td>\n",
       "      <td>451.46</td>\n",
       "      <td>451.79</td>\n",
       "      <td>95311817.0</td>\n",
       "    </tr>\n",
       "    <tr>\n",
       "      <th>2022-01-20 00:00:00-05:00</th>\n",
       "      <td>111.84</td>\n",
       "      <td>111.9000</td>\n",
       "      <td>111.75</td>\n",
       "      <td>111.790</td>\n",
       "      <td>6861797.0</td>\n",
       "      <td>453.75</td>\n",
       "      <td>458.7400</td>\n",
       "      <td>444.50</td>\n",
       "      <td>446.79</td>\n",
       "      <td>105009751.0</td>\n",
       "    </tr>\n",
       "    <tr>\n",
       "      <th>2022-01-21 00:00:00-05:00</th>\n",
       "      <td>112.19</td>\n",
       "      <td>112.3500</td>\n",
       "      <td>112.11</td>\n",
       "      <td>112.240</td>\n",
       "      <td>7792653.0</td>\n",
       "      <td>445.56</td>\n",
       "      <td>448.0600</td>\n",
       "      <td>437.97</td>\n",
       "      <td>438.11</td>\n",
       "      <td>174541929.0</td>\n",
       "    </tr>\n",
       "  </tbody>\n",
       "</table>\n",
       "<p>1001 rows × 10 columns</p>\n",
       "</div>"
      ],
      "text/plain": [
       "                              AGG                                        \\\n",
       "                             open      high     low    close     volume   \n",
       "time                                                                      \n",
       "2018-02-01 00:00:00-05:00  107.75  107.8250  107.48  107.490  8569565.0   \n",
       "2018-02-02 00:00:00-05:00  107.25  107.3450  107.10  107.200  4266243.0   \n",
       "2018-02-05 00:00:00-05:00  107.12  107.8100  107.00  107.630  4879995.0   \n",
       "2018-02-06 00:00:00-05:00  107.46  107.5600  107.28  107.300  5489931.0   \n",
       "2018-02-07 00:00:00-05:00  107.43  107.4369  107.00  107.085  3440626.0   \n",
       "...                           ...       ...     ...      ...        ...   \n",
       "2022-01-14 00:00:00-05:00  112.53  112.5450  112.15  112.170  8362916.0   \n",
       "2022-01-18 00:00:00-05:00  111.81  111.8600  111.47  111.490  7390142.0   \n",
       "2022-01-19 00:00:00-05:00  111.70  111.8900  111.65  111.710  7641972.0   \n",
       "2022-01-20 00:00:00-05:00  111.84  111.9000  111.75  111.790  6861797.0   \n",
       "2022-01-21 00:00:00-05:00  112.19  112.3500  112.11  112.240  7792653.0   \n",
       "\n",
       "                              SPY                                         \n",
       "                             open      high     low   close       volume  \n",
       "time                                                                      \n",
       "2018-02-01 00:00:00-05:00     NaN       NaN     NaN     NaN          NaN  \n",
       "2018-02-02 00:00:00-05:00  280.08  280.2300  275.41  275.52  121717871.0  \n",
       "2018-02-05 00:00:00-05:00  273.47  275.8500  263.31  264.18  205971586.0  \n",
       "2018-02-06 00:00:00-05:00  259.99  269.7000  254.12  269.18  232359323.0  \n",
       "2018-02-07 00:00:00-05:00  268.50  272.3600  267.63  267.66  112819262.0  \n",
       "...                           ...       ...     ...     ...          ...  \n",
       "2022-01-14 00:00:00-05:00  461.19  465.0900  459.90  464.68   84363989.0  \n",
       "2022-01-18 00:00:00-05:00  459.73  459.9600  455.31  456.53   95565773.0  \n",
       "2022-01-19 00:00:00-05:00  458.17  459.6124  451.46  451.79   95311817.0  \n",
       "2022-01-20 00:00:00-05:00  453.75  458.7400  444.50  446.79  105009751.0  \n",
       "2022-01-21 00:00:00-05:00  445.56  448.0600  437.97  438.11  174541929.0  \n",
       "\n",
       "[1001 rows x 10 columns]"
      ]
     },
     "execution_count": 12,
     "metadata": {},
     "output_type": "execute_result"
    }
   ],
   "source": [
    "# Format current date as ISO format\n",
    "today = pd.Timestamp(\"2022-01-21\", tz=\"America/New_York\").isoformat()\n",
    "\n",
    "start = pd.Timestamp(\"2017-01-21\", tz=\"America/New_York\").isoformat()\n",
    "end = today \n",
    "# Set the tickers\n",
    "tickers = [\"AGG\", \"SPY\"]\n",
    "\n",
    "# Set timeframe to '1D' for Alpaca API\n",
    "timeframe = \"1D\"\n",
    "\n",
    "# Get current closing prices for SPY and AGG\n",
    "# (use a limit=1000 parameter to call the most recent 1000 days of data)\n",
    "df_portfolio_year = alpaca.get_barset(\n",
    "    tickers,\n",
    "    timeframe,\n",
    "    start = start,\n",
    "    end = end,\n",
    "    limit = 1000\n",
    ").df\n",
    "\n",
    "# Preview DataFrame\n",
    "df_portfolio_year"
   ]
  },
  {
   "cell_type": "code",
   "execution_count": 13,
   "metadata": {},
   "outputs": [
    {
     "data": {
      "text/html": [
       "<div>\n",
       "<style scoped>\n",
       "    .dataframe tbody tr th:only-of-type {\n",
       "        vertical-align: middle;\n",
       "    }\n",
       "\n",
       "    .dataframe tbody tr th {\n",
       "        vertical-align: top;\n",
       "    }\n",
       "\n",
       "    .dataframe thead th {\n",
       "        text-align: right;\n",
       "    }\n",
       "</style>\n",
       "<table border=\"1\" class=\"dataframe\">\n",
       "  <thead>\n",
       "    <tr style=\"text-align: right;\">\n",
       "      <th></th>\n",
       "      <th>AGG</th>\n",
       "      <th>SPY</th>\n",
       "    </tr>\n",
       "  </thead>\n",
       "  <tbody>\n",
       "    <tr>\n",
       "      <th>2022-01-07</th>\n",
       "      <td>112.50</td>\n",
       "      <td>466.12</td>\n",
       "    </tr>\n",
       "    <tr>\n",
       "      <th>2022-01-10</th>\n",
       "      <td>112.41</td>\n",
       "      <td>465.56</td>\n",
       "    </tr>\n",
       "    <tr>\n",
       "      <th>2022-01-11</th>\n",
       "      <td>112.61</td>\n",
       "      <td>469.74</td>\n",
       "    </tr>\n",
       "    <tr>\n",
       "      <th>2022-01-12</th>\n",
       "      <td>112.60</td>\n",
       "      <td>471.06</td>\n",
       "    </tr>\n",
       "    <tr>\n",
       "      <th>2022-01-13</th>\n",
       "      <td>112.80</td>\n",
       "      <td>464.54</td>\n",
       "    </tr>\n",
       "    <tr>\n",
       "      <th>2022-01-14</th>\n",
       "      <td>112.17</td>\n",
       "      <td>464.68</td>\n",
       "    </tr>\n",
       "    <tr>\n",
       "      <th>2022-01-18</th>\n",
       "      <td>111.49</td>\n",
       "      <td>456.53</td>\n",
       "    </tr>\n",
       "    <tr>\n",
       "      <th>2022-01-19</th>\n",
       "      <td>111.71</td>\n",
       "      <td>451.79</td>\n",
       "    </tr>\n",
       "    <tr>\n",
       "      <th>2022-01-20</th>\n",
       "      <td>111.79</td>\n",
       "      <td>446.79</td>\n",
       "    </tr>\n",
       "    <tr>\n",
       "      <th>2022-01-21</th>\n",
       "      <td>112.24</td>\n",
       "      <td>438.11</td>\n",
       "    </tr>\n",
       "  </tbody>\n",
       "</table>\n",
       "</div>"
      ],
      "text/plain": [
       "               AGG     SPY\n",
       "2022-01-07  112.50  466.12\n",
       "2022-01-10  112.41  465.56\n",
       "2022-01-11  112.61  469.74\n",
       "2022-01-12  112.60  471.06\n",
       "2022-01-13  112.80  464.54\n",
       "2022-01-14  112.17  464.68\n",
       "2022-01-18  111.49  456.53\n",
       "2022-01-19  111.71  451.79\n",
       "2022-01-20  111.79  446.79\n",
       "2022-01-21  112.24  438.11"
      ]
     },
     "execution_count": 13,
     "metadata": {},
     "output_type": "execute_result"
    }
   ],
   "source": [
    "# Pick AGG and SPY close prices\n",
    "df_closing_prices = pd.DataFrame()\n",
    "\n",
    "df_closing_prices[\"AGG\"] = df_portfolio_year[\"AGG\"][\"close\"]\n",
    "df_closing_prices[\"SPY\"] = df_portfolio_year[\"SPY\"][\"close\"]\n",
    "\n",
    "# Drop the time component of the date\n",
    "df_closing_prices.index = df_closing_prices.index.date\n",
    "\n",
    "# Display sample data\n",
    "df_closing_prices.tail(10)\n"
   ]
  },
  {
   "cell_type": "code",
   "execution_count": 14,
   "metadata": {},
   "outputs": [
    {
     "name": "stdout",
     "output_type": "stream",
     "text": [
      "Current AGG closing price: $112.24\n",
      "Current SPY closing price: $438.11\n"
     ]
    }
   ],
   "source": [
    "# Print AGG and SPY close prices\n",
    "\n",
    "agg_close = df_portfolio_year[\"AGG\"][\"close\"]['2022-01-21']\n",
    "spy_close = df_portfolio_year[\"SPY\"][\"close\"]['2022-01-21']\n",
    "print(f\"Current AGG closing price: ${agg_close}\")\n",
    "print(f\"Current SPY closing price: ${spy_close}\")"
   ]
  },
  {
   "cell_type": "code",
   "execution_count": 15,
   "metadata": {},
   "outputs": [
    {
     "name": "stdout",
     "output_type": "stream",
     "text": [
      "The current value of your 50 SPY shares is $21905.50\n",
      "The current value of your 200 AGG shares is $22448.00\n",
      "Total Value of Shares is $44353.50\n"
     ]
    }
   ],
   "source": [
    "# Compute the current value of shares\n",
    "my_agg_value = my_agg * agg_close\n",
    "\n",
    "my_spy_value = my_spy * spy_close\n",
    "\n",
    "total_stock =  my_agg_value + my_spy_value\n",
    "\n",
    "total_stock\n",
    "\n",
    "# Print current value of shares\n",
    "print(f\"The current value of your {my_spy} SPY shares is ${my_spy_value:0.2f}\")\n",
    "print(f\"The current value of your {my_agg} AGG shares is ${my_agg_value:0.2f}\")\n",
    "print(f'Total Value of Shares is ${total_stock:0.2f}')"
   ]
  },
  {
   "cell_type": "markdown",
   "metadata": {},
   "source": [
    "### Savings Health Analysis"
   ]
  },
  {
   "cell_type": "code",
   "execution_count": 16,
   "metadata": {},
   "outputs": [
    {
     "data": {
      "text/html": [
       "<div>\n",
       "<style scoped>\n",
       "    .dataframe tbody tr th:only-of-type {\n",
       "        vertical-align: middle;\n",
       "    }\n",
       "\n",
       "    .dataframe tbody tr th {\n",
       "        vertical-align: top;\n",
       "    }\n",
       "\n",
       "    .dataframe thead th {\n",
       "        text-align: right;\n",
       "    }\n",
       "</style>\n",
       "<table border=\"1\" class=\"dataframe\">\n",
       "  <thead>\n",
       "    <tr style=\"text-align: right;\">\n",
       "      <th></th>\n",
       "      <th>Amount</th>\n",
       "    </tr>\n",
       "  </thead>\n",
       "  <tbody>\n",
       "    <tr>\n",
       "      <th>Crypto</th>\n",
       "      <td>55213.166</td>\n",
       "    </tr>\n",
       "    <tr>\n",
       "      <th>Shares</th>\n",
       "      <td>44353.500</td>\n",
       "    </tr>\n",
       "  </tbody>\n",
       "</table>\n",
       "</div>"
      ],
      "text/plain": [
       "           Amount\n",
       "Crypto  55213.166\n",
       "Shares  44353.500"
      ]
     },
     "metadata": {},
     "output_type": "display_data"
    }
   ],
   "source": [
    "# Set monthly household income\n",
    "monthly_income = 12000\n",
    "\n",
    "# Consolidate financial assets data\n",
    "savings = [total_crypto,total_stock]\n",
    "\n",
    "# Create savings DataFrame\n",
    "df_savings = pd.DataFrame(savings, columns =['Amount'], index =['Crypto', 'Shares'])\n",
    "\n",
    "# Display savings DataFrame\n",
    "display(df_savings)"
   ]
  },
  {
   "cell_type": "code",
   "execution_count": 17,
   "metadata": {},
   "outputs": [
    {
     "data": {
      "text/plain": [
       "<AxesSubplot:title={'center':'Composition of Personal Savings'}, ylabel='Amount'>"
      ]
     },
     "execution_count": 17,
     "metadata": {},
     "output_type": "execute_result"
    },
    {
     "data": {
      "image/png": "[encoded data removed]",
      "text/plain": [
       "<Figure size 432x288 with 1 Axes>"
      ]
     },
     "metadata": {},
     "output_type": "display_data"
    }
   ],
   "source": [
    "# Plot savings pie chart\n",
    "df_savings.plot.pie(y='Amount', title = 'Composition of Personal Savings')"
   ]
  },
  {
   "cell_type": "code",
   "execution_count": 18,
   "metadata": {},
   "outputs": [
    {
     "name": "stdout",
     "output_type": "stream",
     "text": [
      "Congratulations! You have enough saved!\n"
     ]
    }
   ],
   "source": [
    "# Set ideal emergency fund\n",
    "emergency_fund = monthly_income * 3\n",
    "\n",
    "# Calculate total amount of savings\n",
    "total_savings = float(df_savings.sum())\n",
    "\n",
    "# Validate saving health\n",
    "if total_savings > emergency_fund:\n",
    "    print(f'Congratulations! You have enough saved!')\n",
    "elif total_savings == emergency_fund:\n",
    "    print(f'Congrats on reaching your financial goal!')\n",
    "else:\n",
    "    print(f'You are {emergency_fund - total_savings} away from your goal!')"
   ]
  },
  {
   "cell_type": "markdown",
   "metadata": {},
   "source": [
    "## Part 2 - Retirement Planning\n",
    "\n",
    "### Monte Carlo Simulation"
   ]
  },
  {
   "cell_type": "code",
   "execution_count": 19,
   "metadata": {},
   "outputs": [],
   "source": [
    "# Set start and end dates of five years back from today.\n",
    "# Sample results may vary from the solution based on the time frame chosen\n",
    "start_date = pd.Timestamp('2016-05-01', tz='America/New_York').isoformat()\n",
    "end_date = pd.Timestamp('2021-05-01', tz='America/New_York').isoformat()"
   ]
  },
  {
   "cell_type": "code",
   "execution_count": 20,
   "metadata": {},
   "outputs": [],
   "source": [
    "# Configuring a Monte Carlo simulation to forecast 30 years cumulative returns\n",
    "MC_even_dist = MCSimulation(\n",
    "    portfolio_data = df_portfolio_year,\n",
    "    weights = [.4,.6],\n",
    "    num_simulation = 1000,\n",
    "    num_trading_days = 252*30)"
   ]
  },
  {
   "cell_type": "code",
   "execution_count": 21,
   "metadata": {},
   "outputs": [
    {
     "data": {
      "text/html": [
       "<div>\n",
       "<style scoped>\n",
       "    .dataframe tbody tr th:only-of-type {\n",
       "        vertical-align: middle;\n",
       "    }\n",
       "\n",
       "    .dataframe tbody tr th {\n",
       "        vertical-align: top;\n",
       "    }\n",
       "\n",
       "    .dataframe thead tr th {\n",
       "        text-align: left;\n",
       "    }\n",
       "\n",
       "    .dataframe thead tr:last-of-type th {\n",
       "        text-align: right;\n",
       "    }\n",
       "</style>\n",
       "<table border=\"1\" class=\"dataframe\">\n",
       "  <thead>\n",
       "    <tr>\n",
       "      <th></th>\n",
       "      <th colspan=\"6\" halign=\"left\">AGG</th>\n",
       "      <th colspan=\"6\" halign=\"left\">SPY</th>\n",
       "    </tr>\n",
       "    <tr>\n",
       "      <th></th>\n",
       "      <th>open</th>\n",
       "      <th>high</th>\n",
       "      <th>low</th>\n",
       "      <th>close</th>\n",
       "      <th>volume</th>\n",
       "      <th>daily_return</th>\n",
       "      <th>open</th>\n",
       "      <th>high</th>\n",
       "      <th>low</th>\n",
       "      <th>close</th>\n",
       "      <th>volume</th>\n",
       "      <th>daily_return</th>\n",
       "    </tr>\n",
       "    <tr>\n",
       "      <th>time</th>\n",
       "      <th></th>\n",
       "      <th></th>\n",
       "      <th></th>\n",
       "      <th></th>\n",
       "      <th></th>\n",
       "      <th></th>\n",
       "      <th></th>\n",
       "      <th></th>\n",
       "      <th></th>\n",
       "      <th></th>\n",
       "      <th></th>\n",
       "      <th></th>\n",
       "    </tr>\n",
       "  </thead>\n",
       "  <tbody>\n",
       "    <tr>\n",
       "      <th>2018-02-01 00:00:00-05:00</th>\n",
       "      <td>107.75</td>\n",
       "      <td>107.8250</td>\n",
       "      <td>107.48</td>\n",
       "      <td>107.490</td>\n",
       "      <td>8569565.0</td>\n",
       "      <td>NaN</td>\n",
       "      <td>NaN</td>\n",
       "      <td>NaN</td>\n",
       "      <td>NaN</td>\n",
       "      <td>NaN</td>\n",
       "      <td>NaN</td>\n",
       "      <td>NaN</td>\n",
       "    </tr>\n",
       "    <tr>\n",
       "      <th>2018-02-02 00:00:00-05:00</th>\n",
       "      <td>107.25</td>\n",
       "      <td>107.3450</td>\n",
       "      <td>107.10</td>\n",
       "      <td>107.200</td>\n",
       "      <td>4266243.0</td>\n",
       "      <td>-0.002698</td>\n",
       "      <td>280.08</td>\n",
       "      <td>280.23</td>\n",
       "      <td>275.41</td>\n",
       "      <td>275.52</td>\n",
       "      <td>121717871.0</td>\n",
       "      <td>NaN</td>\n",
       "    </tr>\n",
       "    <tr>\n",
       "      <th>2018-02-05 00:00:00-05:00</th>\n",
       "      <td>107.12</td>\n",
       "      <td>107.8100</td>\n",
       "      <td>107.00</td>\n",
       "      <td>107.630</td>\n",
       "      <td>4879995.0</td>\n",
       "      <td>0.004011</td>\n",
       "      <td>273.47</td>\n",
       "      <td>275.85</td>\n",
       "      <td>263.31</td>\n",
       "      <td>264.18</td>\n",
       "      <td>205971586.0</td>\n",
       "      <td>-0.041159</td>\n",
       "    </tr>\n",
       "    <tr>\n",
       "      <th>2018-02-06 00:00:00-05:00</th>\n",
       "      <td>107.46</td>\n",
       "      <td>107.5600</td>\n",
       "      <td>107.28</td>\n",
       "      <td>107.300</td>\n",
       "      <td>5489931.0</td>\n",
       "      <td>-0.003066</td>\n",
       "      <td>259.99</td>\n",
       "      <td>269.70</td>\n",
       "      <td>254.12</td>\n",
       "      <td>269.18</td>\n",
       "      <td>232359323.0</td>\n",
       "      <td>0.018926</td>\n",
       "    </tr>\n",
       "    <tr>\n",
       "      <th>2018-02-07 00:00:00-05:00</th>\n",
       "      <td>107.43</td>\n",
       "      <td>107.4369</td>\n",
       "      <td>107.00</td>\n",
       "      <td>107.085</td>\n",
       "      <td>3440626.0</td>\n",
       "      <td>-0.002004</td>\n",
       "      <td>268.50</td>\n",
       "      <td>272.36</td>\n",
       "      <td>267.63</td>\n",
       "      <td>267.66</td>\n",
       "      <td>112819262.0</td>\n",
       "      <td>-0.005647</td>\n",
       "    </tr>\n",
       "  </tbody>\n",
       "</table>\n",
       "</div>"
      ],
      "text/plain": [
       "                              AGG                                        \\\n",
       "                             open      high     low    close     volume   \n",
       "time                                                                      \n",
       "2018-02-01 00:00:00-05:00  107.75  107.8250  107.48  107.490  8569565.0   \n",
       "2018-02-02 00:00:00-05:00  107.25  107.3450  107.10  107.200  4266243.0   \n",
       "2018-02-05 00:00:00-05:00  107.12  107.8100  107.00  107.630  4879995.0   \n",
       "2018-02-06 00:00:00-05:00  107.46  107.5600  107.28  107.300  5489931.0   \n",
       "2018-02-07 00:00:00-05:00  107.43  107.4369  107.00  107.085  3440626.0   \n",
       "\n",
       "                                           SPY                          \\\n",
       "                          daily_return    open    high     low   close   \n",
       "time                                                                     \n",
       "2018-02-01 00:00:00-05:00          NaN     NaN     NaN     NaN     NaN   \n",
       "2018-02-02 00:00:00-05:00    -0.002698  280.08  280.23  275.41  275.52   \n",
       "2018-02-05 00:00:00-05:00     0.004011  273.47  275.85  263.31  264.18   \n",
       "2018-02-06 00:00:00-05:00    -0.003066  259.99  269.70  254.12  269.18   \n",
       "2018-02-07 00:00:00-05:00    -0.002004  268.50  272.36  267.63  267.66   \n",
       "\n",
       "                                                     \n",
       "                                volume daily_return  \n",
       "time                                                 \n",
       "2018-02-01 00:00:00-05:00          NaN          NaN  \n",
       "2018-02-02 00:00:00-05:00  121717871.0          NaN  \n",
       "2018-02-05 00:00:00-05:00  205971586.0    -0.041159  \n",
       "2018-02-06 00:00:00-05:00  232359323.0     0.018926  \n",
       "2018-02-07 00:00:00-05:00  112819262.0    -0.005647  "
      ]
     },
     "execution_count": 21,
     "metadata": {},
     "output_type": "execute_result"
    }
   ],
   "source": [
    "# Printing the simulation input data\n",
    "MC_even_dist.portfolio_data.head()"
   ]
  },
  {
   "cell_type": "code",
   "execution_count": 22,
   "metadata": {},
   "outputs": [
    {
     "name": "stdout",
     "output_type": "stream",
     "text": [
      "Running Monte Carlo simulation number 0.\n",
      "Running Monte Carlo simulation number 10.\n",
      "Running Monte Carlo simulation number 20.\n",
      "Running Monte Carlo simulation number 30.\n",
      "Running Monte Carlo simulation number 40.\n",
      "Running Monte Carlo simulation number 50.\n",
      "Running Monte Carlo simulation number 60.\n",
      "Running Monte Carlo simulation number 70.\n",
      "Running Monte Carlo simulation number 80.\n",
      "Running Monte Carlo simulation number 90.\n",
      "Running Monte Carlo simulation number 100.\n"
     ]
    },
    {
     "name": "stderr",
     "output_type": "stream",
     "text": [
      "/Users/abibajibola/Desktop/API-HW/MCForecastTools.py:117: PerformanceWarning: DataFrame is highly fragmented.  This is usually the result of calling `frame.insert` many times, which has poor performance.  Consider joining all columns at once using pd.concat(axis=1) instead.  To get a de-fragmented frame, use `newframe = frame.copy()`\n",
      "  portfolio_cumulative_returns[n] = (1 + sim_df.fillna(0)).cumprod()\n"
     ]
    },
    {
     "name": "stdout",
     "output_type": "stream",
     "text": [
      "Running Monte Carlo simulation number 110.\n",
      "Running Monte Carlo simulation number 120.\n",
      "Running Monte Carlo simulation number 130.\n",
      "Running Monte Carlo simulation number 140.\n",
      "Running Monte Carlo simulation number 150.\n",
      "Running Monte Carlo simulation number 160.\n",
      "Running Monte Carlo simulation number 170.\n",
      "Running Monte Carlo simulation number 180.\n",
      "Running Monte Carlo simulation number 190.\n",
      "Running Monte Carlo simulation number 200.\n",
      "Running Monte Carlo simulation number 210.\n",
      "Running Monte Carlo simulation number 220.\n",
      "Running Monte Carlo simulation number 230.\n",
      "Running Monte Carlo simulation number 240.\n",
      "Running Monte Carlo simulation number 250.\n",
      "Running Monte Carlo simulation number 260.\n",
      "Running Monte Carlo simulation number 270.\n",
      "Running Monte Carlo simulation number 280.\n",
      "Running Monte Carlo simulation number 290.\n",
      "Running Monte Carlo simulation number 300.\n",
      "Running Monte Carlo simulation number 310.\n",
      "Running Monte Carlo simulation number 320.\n",
      "Running Monte Carlo simulation number 330.\n",
      "Running Monte Carlo simulation number 340.\n",
      "Running Monte Carlo simulation number 350.\n",
      "Running Monte Carlo simulation number 360.\n",
      "Running Monte Carlo simulation number 370.\n",
      "Running Monte Carlo simulation number 380.\n",
      "Running Monte Carlo simulation number 390.\n",
      "Running Monte Carlo simulation number 400.\n",
      "Running Monte Carlo simulation number 410.\n",
      "Running Monte Carlo simulation number 420.\n",
      "Running Monte Carlo simulation number 430.\n",
      "Running Monte Carlo simulation number 440.\n",
      "Running Monte Carlo simulation number 450.\n",
      "Running Monte Carlo simulation number 460.\n",
      "Running Monte Carlo simulation number 470.\n",
      "Running Monte Carlo simulation number 480.\n",
      "Running Monte Carlo simulation number 490.\n",
      "Running Monte Carlo simulation number 500.\n",
      "Running Monte Carlo simulation number 510.\n",
      "Running Monte Carlo simulation number 520.\n",
      "Running Monte Carlo simulation number 530.\n",
      "Running Monte Carlo simulation number 540.\n",
      "Running Monte Carlo simulation number 550.\n",
      "Running Monte Carlo simulation number 560.\n",
      "Running Monte Carlo simulation number 570.\n",
      "Running Monte Carlo simulation number 580.\n",
      "Running Monte Carlo simulation number 590.\n",
      "Running Monte Carlo simulation number 600.\n",
      "Running Monte Carlo simulation number 610.\n",
      "Running Monte Carlo simulation number 620.\n",
      "Running Monte Carlo simulation number 630.\n",
      "Running Monte Carlo simulation number 640.\n",
      "Running Monte Carlo simulation number 650.\n",
      "Running Monte Carlo simulation number 660.\n",
      "Running Monte Carlo simulation number 670.\n",
      "Running Monte Carlo simulation number 680.\n",
      "Running Monte Carlo simulation number 690.\n",
      "Running Monte Carlo simulation number 700.\n",
      "Running Monte Carlo simulation number 710.\n",
      "Running Monte Carlo simulation number 720.\n",
      "Running Monte Carlo simulation number 730.\n",
      "Running Monte Carlo simulation number 740.\n",
      "Running Monte Carlo simulation number 750.\n",
      "Running Monte Carlo simulation number 760.\n",
      "Running Monte Carlo simulation number 770.\n",
      "Running Monte Carlo simulation number 780.\n",
      "Running Monte Carlo simulation number 790.\n",
      "Running Monte Carlo simulation number 800.\n",
      "Running Monte Carlo simulation number 810.\n",
      "Running Monte Carlo simulation number 820.\n",
      "Running Monte Carlo simulation number 830.\n",
      "Running Monte Carlo simulation number 840.\n",
      "Running Monte Carlo simulation number 850.\n",
      "Running Monte Carlo simulation number 860.\n",
      "Running Monte Carlo simulation number 870.\n",
      "Running Monte Carlo simulation number 880.\n",
      "Running Monte Carlo simulation number 890.\n",
      "Running Monte Carlo simulation number 900.\n",
      "Running Monte Carlo simulation number 910.\n",
      "Running Monte Carlo simulation number 920.\n",
      "Running Monte Carlo simulation number 930.\n",
      "Running Monte Carlo simulation number 940.\n",
      "Running Monte Carlo simulation number 950.\n",
      "Running Monte Carlo simulation number 960.\n",
      "Running Monte Carlo simulation number 970.\n",
      "Running Monte Carlo simulation number 980.\n",
      "Running Monte Carlo simulation number 990.\n"
     ]
    },
    {
     "data": {
      "text/html": [
       "<div>\n",
       "<style scoped>\n",
       "    .dataframe tbody tr th:only-of-type {\n",
       "        vertical-align: middle;\n",
       "    }\n",
       "\n",
       "    .dataframe tbody tr th {\n",
       "        vertical-align: top;\n",
       "    }\n",
       "\n",
       "    .dataframe thead th {\n",
       "        text-align: right;\n",
       "    }\n",
       "</style>\n",
       "<table border=\"1\" class=\"dataframe\">\n",
       "  <thead>\n",
       "    <tr style=\"text-align: right;\">\n",
       "      <th></th>\n",
       "      <th>0</th>\n",
       "      <th>1</th>\n",
       "      <th>2</th>\n",
       "      <th>3</th>\n",
       "      <th>4</th>\n",
       "      <th>5</th>\n",
       "      <th>6</th>\n",
       "      <th>7</th>\n",
       "      <th>8</th>\n",
       "      <th>9</th>\n",
       "      <th>...</th>\n",
       "      <th>990</th>\n",
       "      <th>991</th>\n",
       "      <th>992</th>\n",
       "      <th>993</th>\n",
       "      <th>994</th>\n",
       "      <th>995</th>\n",
       "      <th>996</th>\n",
       "      <th>997</th>\n",
       "      <th>998</th>\n",
       "      <th>999</th>\n",
       "    </tr>\n",
       "  </thead>\n",
       "  <tbody>\n",
       "    <tr>\n",
       "      <th>0</th>\n",
       "      <td>1.000000</td>\n",
       "      <td>1.000000</td>\n",
       "      <td>1.000000</td>\n",
       "      <td>1.000000</td>\n",
       "      <td>1.000000</td>\n",
       "      <td>1.000000</td>\n",
       "      <td>1.000000</td>\n",
       "      <td>1.000000</td>\n",
       "      <td>1.000000</td>\n",
       "      <td>1.000000</td>\n",
       "      <td>...</td>\n",
       "      <td>1.000000</td>\n",
       "      <td>1.000000</td>\n",
       "      <td>1.000000</td>\n",
       "      <td>1.000000</td>\n",
       "      <td>1.000000</td>\n",
       "      <td>1.000000</td>\n",
       "      <td>1.000000</td>\n",
       "      <td>1.000000</td>\n",
       "      <td>1.000000</td>\n",
       "      <td>1.000000</td>\n",
       "    </tr>\n",
       "    <tr>\n",
       "      <th>1</th>\n",
       "      <td>0.982291</td>\n",
       "      <td>0.987516</td>\n",
       "      <td>0.991292</td>\n",
       "      <td>0.989228</td>\n",
       "      <td>1.004507</td>\n",
       "      <td>1.010855</td>\n",
       "      <td>1.001133</td>\n",
       "      <td>0.997035</td>\n",
       "      <td>0.996963</td>\n",
       "      <td>1.006885</td>\n",
       "      <td>...</td>\n",
       "      <td>1.009389</td>\n",
       "      <td>1.007096</td>\n",
       "      <td>1.002503</td>\n",
       "      <td>1.000001</td>\n",
       "      <td>0.991709</td>\n",
       "      <td>1.006879</td>\n",
       "      <td>0.995311</td>\n",
       "      <td>1.003779</td>\n",
       "      <td>1.006000</td>\n",
       "      <td>1.009405</td>\n",
       "    </tr>\n",
       "    <tr>\n",
       "      <th>2</th>\n",
       "      <td>0.973124</td>\n",
       "      <td>0.999858</td>\n",
       "      <td>1.000462</td>\n",
       "      <td>0.984779</td>\n",
       "      <td>1.004594</td>\n",
       "      <td>1.013445</td>\n",
       "      <td>0.992349</td>\n",
       "      <td>1.005150</td>\n",
       "      <td>0.985241</td>\n",
       "      <td>1.007634</td>\n",
       "      <td>...</td>\n",
       "      <td>1.002608</td>\n",
       "      <td>0.998825</td>\n",
       "      <td>1.004155</td>\n",
       "      <td>1.008957</td>\n",
       "      <td>0.998984</td>\n",
       "      <td>1.006932</td>\n",
       "      <td>0.974504</td>\n",
       "      <td>1.009319</td>\n",
       "      <td>1.004748</td>\n",
       "      <td>1.015547</td>\n",
       "    </tr>\n",
       "    <tr>\n",
       "      <th>3</th>\n",
       "      <td>0.974988</td>\n",
       "      <td>1.008344</td>\n",
       "      <td>1.008599</td>\n",
       "      <td>0.980468</td>\n",
       "      <td>1.006642</td>\n",
       "      <td>1.003846</td>\n",
       "      <td>0.998840</td>\n",
       "      <td>1.012355</td>\n",
       "      <td>0.987051</td>\n",
       "      <td>0.997914</td>\n",
       "      <td>...</td>\n",
       "      <td>1.012776</td>\n",
       "      <td>0.990379</td>\n",
       "      <td>1.011859</td>\n",
       "      <td>1.001914</td>\n",
       "      <td>0.991617</td>\n",
       "      <td>1.004002</td>\n",
       "      <td>0.977041</td>\n",
       "      <td>1.008492</td>\n",
       "      <td>1.009084</td>\n",
       "      <td>1.003189</td>\n",
       "    </tr>\n",
       "    <tr>\n",
       "      <th>4</th>\n",
       "      <td>0.975704</td>\n",
       "      <td>1.016002</td>\n",
       "      <td>1.012283</td>\n",
       "      <td>0.976105</td>\n",
       "      <td>0.986739</td>\n",
       "      <td>1.015207</td>\n",
       "      <td>0.999920</td>\n",
       "      <td>1.003148</td>\n",
       "      <td>0.981830</td>\n",
       "      <td>1.004536</td>\n",
       "      <td>...</td>\n",
       "      <td>1.010072</td>\n",
       "      <td>0.987568</td>\n",
       "      <td>1.029569</td>\n",
       "      <td>1.000498</td>\n",
       "      <td>0.997912</td>\n",
       "      <td>1.011655</td>\n",
       "      <td>0.970184</td>\n",
       "      <td>0.991595</td>\n",
       "      <td>0.996451</td>\n",
       "      <td>0.993487</td>\n",
       "    </tr>\n",
       "    <tr>\n",
       "      <th>...</th>\n",
       "      <td>...</td>\n",
       "      <td>...</td>\n",
       "      <td>...</td>\n",
       "      <td>...</td>\n",
       "      <td>...</td>\n",
       "      <td>...</td>\n",
       "      <td>...</td>\n",
       "      <td>...</td>\n",
       "      <td>...</td>\n",
       "      <td>...</td>\n",
       "      <td>...</td>\n",
       "      <td>...</td>\n",
       "      <td>...</td>\n",
       "      <td>...</td>\n",
       "      <td>...</td>\n",
       "      <td>...</td>\n",
       "      <td>...</td>\n",
       "      <td>...</td>\n",
       "      <td>...</td>\n",
       "      <td>...</td>\n",
       "      <td>...</td>\n",
       "    </tr>\n",
       "    <tr>\n",
       "      <th>7556</th>\n",
       "      <td>12.882667</td>\n",
       "      <td>7.149574</td>\n",
       "      <td>8.055439</td>\n",
       "      <td>22.464623</td>\n",
       "      <td>3.395240</td>\n",
       "      <td>4.301897</td>\n",
       "      <td>7.010194</td>\n",
       "      <td>11.793302</td>\n",
       "      <td>14.737422</td>\n",
       "      <td>7.664393</td>\n",
       "      <td>...</td>\n",
       "      <td>4.669278</td>\n",
       "      <td>2.645187</td>\n",
       "      <td>4.346626</td>\n",
       "      <td>5.471263</td>\n",
       "      <td>24.420881</td>\n",
       "      <td>11.630715</td>\n",
       "      <td>12.380959</td>\n",
       "      <td>15.747023</td>\n",
       "      <td>11.344560</td>\n",
       "      <td>20.949595</td>\n",
       "    </tr>\n",
       "    <tr>\n",
       "      <th>7557</th>\n",
       "      <td>12.933882</td>\n",
       "      <td>7.127997</td>\n",
       "      <td>8.092469</td>\n",
       "      <td>22.334987</td>\n",
       "      <td>3.394378</td>\n",
       "      <td>4.310310</td>\n",
       "      <td>7.031013</td>\n",
       "      <td>11.772842</td>\n",
       "      <td>14.753249</td>\n",
       "      <td>7.596227</td>\n",
       "      <td>...</td>\n",
       "      <td>4.697952</td>\n",
       "      <td>2.624144</td>\n",
       "      <td>4.359044</td>\n",
       "      <td>5.508950</td>\n",
       "      <td>24.449759</td>\n",
       "      <td>11.500556</td>\n",
       "      <td>12.310636</td>\n",
       "      <td>15.452734</td>\n",
       "      <td>11.406096</td>\n",
       "      <td>20.981454</td>\n",
       "    </tr>\n",
       "    <tr>\n",
       "      <th>7558</th>\n",
       "      <td>13.181618</td>\n",
       "      <td>7.134514</td>\n",
       "      <td>8.206707</td>\n",
       "      <td>22.340036</td>\n",
       "      <td>3.479089</td>\n",
       "      <td>4.352745</td>\n",
       "      <td>6.988552</td>\n",
       "      <td>11.748512</td>\n",
       "      <td>14.770585</td>\n",
       "      <td>7.539652</td>\n",
       "      <td>...</td>\n",
       "      <td>4.672831</td>\n",
       "      <td>2.625950</td>\n",
       "      <td>4.365989</td>\n",
       "      <td>5.527495</td>\n",
       "      <td>24.606082</td>\n",
       "      <td>11.556630</td>\n",
       "      <td>12.392130</td>\n",
       "      <td>15.405246</td>\n",
       "      <td>11.338059</td>\n",
       "      <td>20.637340</td>\n",
       "    </tr>\n",
       "    <tr>\n",
       "      <th>7559</th>\n",
       "      <td>13.246655</td>\n",
       "      <td>7.065485</td>\n",
       "      <td>8.210762</td>\n",
       "      <td>22.423085</td>\n",
       "      <td>3.493178</td>\n",
       "      <td>4.412070</td>\n",
       "      <td>7.032882</td>\n",
       "      <td>11.756702</td>\n",
       "      <td>14.777572</td>\n",
       "      <td>7.529394</td>\n",
       "      <td>...</td>\n",
       "      <td>4.673976</td>\n",
       "      <td>2.656062</td>\n",
       "      <td>4.355716</td>\n",
       "      <td>5.571049</td>\n",
       "      <td>24.663825</td>\n",
       "      <td>11.741146</td>\n",
       "      <td>12.349534</td>\n",
       "      <td>15.482863</td>\n",
       "      <td>11.231613</td>\n",
       "      <td>20.857596</td>\n",
       "    </tr>\n",
       "    <tr>\n",
       "      <th>7560</th>\n",
       "      <td>13.050645</td>\n",
       "      <td>6.909462</td>\n",
       "      <td>8.194289</td>\n",
       "      <td>22.617940</td>\n",
       "      <td>3.496276</td>\n",
       "      <td>4.361484</td>\n",
       "      <td>6.984269</td>\n",
       "      <td>11.548861</td>\n",
       "      <td>14.775537</td>\n",
       "      <td>7.602159</td>\n",
       "      <td>...</td>\n",
       "      <td>4.595955</td>\n",
       "      <td>2.663581</td>\n",
       "      <td>4.331897</td>\n",
       "      <td>5.515918</td>\n",
       "      <td>24.289399</td>\n",
       "      <td>11.659214</td>\n",
       "      <td>12.333196</td>\n",
       "      <td>15.393980</td>\n",
       "      <td>11.280183</td>\n",
       "      <td>20.883395</td>\n",
       "    </tr>\n",
       "  </tbody>\n",
       "</table>\n",
       "<p>7561 rows × 1000 columns</p>\n",
       "</div>"
      ],
      "text/plain": [
       "            0         1         2          3         4         5         6    \\\n",
       "0      1.000000  1.000000  1.000000   1.000000  1.000000  1.000000  1.000000   \n",
       "1      0.982291  0.987516  0.991292   0.989228  1.004507  1.010855  1.001133   \n",
       "2      0.973124  0.999858  1.000462   0.984779  1.004594  1.013445  0.992349   \n",
       "3      0.974988  1.008344  1.008599   0.980468  1.006642  1.003846  0.998840   \n",
       "4      0.975704  1.016002  1.012283   0.976105  0.986739  1.015207  0.999920   \n",
       "...         ...       ...       ...        ...       ...       ...       ...   \n",
       "7556  12.882667  7.149574  8.055439  22.464623  3.395240  4.301897  7.010194   \n",
       "7557  12.933882  7.127997  8.092469  22.334987  3.394378  4.310310  7.031013   \n",
       "7558  13.181618  7.134514  8.206707  22.340036  3.479089  4.352745  6.988552   \n",
       "7559  13.246655  7.065485  8.210762  22.423085  3.493178  4.412070  7.032882   \n",
       "7560  13.050645  6.909462  8.194289  22.617940  3.496276  4.361484  6.984269   \n",
       "\n",
       "            7          8         9    ...       990       991       992  \\\n",
       "0      1.000000   1.000000  1.000000  ...  1.000000  1.000000  1.000000   \n",
       "1      0.997035   0.996963  1.006885  ...  1.009389  1.007096  1.002503   \n",
       "2      1.005150   0.985241  1.007634  ...  1.002608  0.998825  1.004155   \n",
       "3      1.012355   0.987051  0.997914  ...  1.012776  0.990379  1.011859   \n",
       "4      1.003148   0.981830  1.004536  ...  1.010072  0.987568  1.029569   \n",
       "...         ...        ...       ...  ...       ...       ...       ...   \n",
       "7556  11.793302  14.737422  7.664393  ...  4.669278  2.645187  4.346626   \n",
       "7557  11.772842  14.753249  7.596227  ...  4.697952  2.624144  4.359044   \n",
       "7558  11.748512  14.770585  7.539652  ...  4.672831  2.625950  4.365989   \n",
       "7559  11.756702  14.777572  7.529394  ...  4.673976  2.656062  4.355716   \n",
       "7560  11.548861  14.775537  7.602159  ...  4.595955  2.663581  4.331897   \n",
       "\n",
       "           993        994        995        996        997        998  \\\n",
       "0     1.000000   1.000000   1.000000   1.000000   1.000000   1.000000   \n",
       "1     1.000001   0.991709   1.006879   0.995311   1.003779   1.006000   \n",
       "2     1.008957   0.998984   1.006932   0.974504   1.009319   1.004748   \n",
       "3     1.001914   0.991617   1.004002   0.977041   1.008492   1.009084   \n",
       "4     1.000498   0.997912   1.011655   0.970184   0.991595   0.996451   \n",
       "...        ...        ...        ...        ...        ...        ...   \n",
       "7556  5.471263  24.420881  11.630715  12.380959  15.747023  11.344560   \n",
       "7557  5.508950  24.449759  11.500556  12.310636  15.452734  11.406096   \n",
       "7558  5.527495  24.606082  11.556630  12.392130  15.405246  11.338059   \n",
       "7559  5.571049  24.663825  11.741146  12.349534  15.482863  11.231613   \n",
       "7560  5.515918  24.289399  11.659214  12.333196  15.393980  11.280183   \n",
       "\n",
       "            999  \n",
       "0      1.000000  \n",
       "1      1.009405  \n",
       "2      1.015547  \n",
       "3      1.003189  \n",
       "4      0.993487  \n",
       "...         ...  \n",
       "7556  20.949595  \n",
       "7557  20.981454  \n",
       "7558  20.637340  \n",
       "7559  20.857596  \n",
       "7560  20.883395  \n",
       "\n",
       "[7561 rows x 1000 columns]"
      ]
     },
     "execution_count": 22,
     "metadata": {},
     "output_type": "execute_result"
    }
   ],
   "source": [
    "# Running a Monte Carlo simulation to forecast 30 years cumulative returns\n",
    "MC_even_dist.calc_cumulative_return()"
   ]
  },
  {
   "cell_type": "code",
   "execution_count": 23,
   "metadata": {},
   "outputs": [
    {
     "data": {
      "image/png": "[encoded data removed]",
      "text/plain": [
       "<Figure size 432x288 with 1 Axes>"
      ]
     },
     "metadata": {
      "needs_background": "light"
     },
     "output_type": "display_data"
    }
   ],
   "source": [
    "# Plot simulation outcomes\n",
    "line_plot = MC_even_dist.plot_simulation()"
   ]
  },
  {
   "cell_type": "code",
   "execution_count": 24,
   "metadata": {},
   "outputs": [
    {
     "data": {
      "image/png": "[encoded data removed]",
      "text/plain": [
       "<Figure size 432x288 with 1 Axes>"
      ]
     },
     "metadata": {
      "needs_background": "light"
     },
     "output_type": "display_data"
    }
   ],
   "source": [
    "# Plot probability distribution and confidence intervals\n",
    "dist_plot = MC_even_dist.plot_distribution()"
   ]
  },
  {
   "cell_type": "markdown",
   "metadata": {},
   "source": [
    "### Retirement Analysis"
   ]
  },
  {
   "cell_type": "code",
   "execution_count": 25,
   "metadata": {},
   "outputs": [
    {
     "name": "stdout",
     "output_type": "stream",
     "text": [
      "count           1000.000000\n",
      "mean              14.058793\n",
      "std               11.482506\n",
      "min                1.609936\n",
      "25%                6.582384\n",
      "50%               11.031859\n",
      "75%               17.886691\n",
      "max              145.411840\n",
      "95% CI Lower       2.808737\n",
      "95% CI Upper      43.247323\n",
      "Name: 7560, dtype: float64\n"
     ]
    }
   ],
   "source": [
    "# Fetch summary statistics from the Monte Carlo simulation results\n",
    "even_tbl = MC_even_dist.summarize_cumulative_return()\n",
    "\n",
    "# Print summary statistics \n",
    "print(even_tbl)"
   ]
  },
  {
   "cell_type": "markdown",
   "metadata": {},
   "source": [
    "### Calculate the expected portfolio return at the `95%` lower and upper confidence intervals based on a `$20,000` initial investment."
   ]
  },
  {
   "cell_type": "code",
   "execution_count": 26,
   "metadata": {},
   "outputs": [
    {
     "name": "stdout",
     "output_type": "stream",
     "text": [
      "There is a 95% chance that an initial investment of $20000 in the portfolio over the next 30 years will end within in the range of $56174.74 and $864946.46\n"
     ]
    }
   ],
   "source": [
    "# Set initial investment\n",
    "initial_investment = 20000\n",
    "\n",
    "# Use the lower and upper `95%` confidence intervals to calculate the range of the possible outcomes of our $20,000\n",
    "ci_lower = round(even_tbl[8]*initial_investment,2)\n",
    "ci_upper = round(even_tbl[9]*initial_investment,2)\n",
    "\n",
    "# Print results\n",
    "print(f\"There is a 95% chance that an initial investment of ${initial_investment} in the portfolio\"\n",
    "      f\" over the next 30 years will end within in the range of\"\n",
    "      f\" ${ci_lower} and ${ci_upper}\")"
   ]
  },
  {
   "cell_type": "markdown",
   "metadata": {},
   "source": [
    "### Calculate the expected portfolio return at the `95%` lower and upper confidence intervals based on a `50%` increase in the initial investment."
   ]
  },
  {
   "cell_type": "code",
   "execution_count": 34,
   "metadata": {},
   "outputs": [
    {
     "name": "stdout",
     "output_type": "stream",
     "text": [
      "There is a 95% chance that an initial investment of $30000.0 in the portfolio over the next 30 years will end within in the range of $84262.1 and $1297419.7\n"
     ]
    }
   ],
   "source": [
    "# Set initial investment\n",
    "initial_investment = 20000 * 1.5\n",
    "\n",
    "# Use the lower and upper `95%` confidence intervals to calculate the range of the possible outcomes of our $30,000\n",
    "ci_lower = round(even_tbl[8]*initial_investment,2)\n",
    "ci_upper = round(even_tbl[9]*initial_investment,2)\n",
    "\n",
    "# Print results\n",
    "print(f\"There is a 95% chance that an initial investment of ${initial_investment} in the portfolio\"\n",
    "      f\" over the next 30 years will end within in the range of\"\n",
    "      f\" ${ci_lower} and ${ci_upper}\")"
   ]
  },
  {
   "cell_type": "markdown",
   "metadata": {},
   "source": [
    "## Optional Challenge - Early Retirement\n",
    "\n",
    "\n",
    "### Five Years Retirement Option"
   ]
  },
  {
   "cell_type": "code",
   "execution_count": 28,
   "metadata": {},
   "outputs": [],
   "source": [
    "# Configuring a Monte Carlo simulation to forecast 5 years cumulative returns\n",
    "# YOUR CODE HERE!"
   ]
  },
  {
   "cell_type": "code",
   "execution_count": 29,
   "metadata": {},
   "outputs": [],
   "source": [
    "# Running a Monte Carlo simulation to forecast 5 years cumulative returns\n",
    "# YOUR CODE HERE!"
   ]
  },
  {
   "cell_type": "code",
   "execution_count": 30,
   "metadata": {},
   "outputs": [],
   "source": [
    "# Plot simulation outcomes\n",
    "# YOUR CODE HERE!"
   ]
  },
  {
   "cell_type": "code",
   "execution_count": 31,
   "metadata": {},
   "outputs": [],
   "source": [
    "# Plot probability distribution and confidence intervals\n",
    "# YOUR CODE HERE!"
   ]
  },
  {
   "cell_type": "code",
   "execution_count": 32,
   "metadata": {},
   "outputs": [],
   "source": [
    "# Fetch summary statistics from the Monte Carlo simulation results\n",
    "# YOUR CODE HERE!\n",
    "\n",
    "# Print summary statistics\n",
    "# YOUR CODE HERE!"
   ]
  },
  {
   "cell_type": "markdown",
   "metadata": {},
   "source": [
    "### Ten Years Retirement Option"
   ]
  },
  {
   "cell_type": "code",
   "execution_count": null,
   "metadata": {},
   "outputs": [],
   "source": [
    "# Configuring a Monte Carlo simulation to forecast 10 years cumulative returns\n",
    "# YOUR CODE HERE!"
   ]
  },
  {
   "cell_type": "code",
   "execution_count": null,
   "metadata": {},
   "outputs": [],
   "source": [
    "# Running a Monte Carlo simulation to forecast 10 years cumulative returns\n",
    "# YOUR CODE HERE!"
   ]
  },
  {
   "cell_type": "code",
   "execution_count": null,
   "metadata": {},
   "outputs": [],
   "source": [
    "# Plot simulation outcomes\n",
    "# YOUR CODE HERE!"
   ]
  },
  {
   "cell_type": "code",
   "execution_count": null,
   "metadata": {},
   "outputs": [],
   "source": [
    "# Plot probability distribution and confidence intervals\n",
    "# YOUR CODE HERE!"
   ]
  },
  {
   "cell_type": "code",
   "execution_count": null,
   "metadata": {},
   "outputs": [],
   "source": [
    "# Fetch summary statistics from the Monte Carlo simulation results\n",
    "# YOUR CODE HERE!\n",
    "\n",
    "# Print summary statistics\n",
    "# YOUR CODE HERE!"
   ]
  },
  {
   "cell_type": "code",
   "execution_count": null,
   "metadata": {},
   "outputs": [],
   "source": [
    "# Set initial investment\n",
    "# YOUR CODE HERE!\n",
    "\n",
    "# Use the lower and upper `95%` confidence intervals to calculate the range of the possible outcomes of our $60,000\n",
    "# YOUR CODE HERE!\n",
    "\n",
    "# Print results\n",
    "print(f\"There is a 95% chance that an initial investment of ${initial_investment} in the portfolio\"\n",
    "      f\" over the next 10 years will end within in the range of\"\n",
    "      f\" ${ci_lower_ten} and ${ci_upper_ten}\")"
   ]
  },
  {
   "cell_type": "code",
   "execution_count": null,
   "metadata": {},
   "outputs": [],
   "source": []
  }
 ],
 "metadata": {
  "kernelspec": {
   "display_name": "Python 3 (ipykernel)",
   "language": "python",
   "name": "python3"
  },
  "language_info": {
   "codemirror_mode": {
    "name": "ipython",
    "version": 3
   },
   "file_extension": ".py",
   "mimetype": "text/x-python",
   "name": "python",
   "nbconvert_exporter": "python",
   "pygments_lexer": "ipython3",
   "version": "3.7.11"
  },
  "nteract": {
   "version": "0.28.0"
  }
 },
 "nbformat": 4,
 "nbformat_minor": 4
}
